{
 "metadata": {
  "language_info": {
   "codemirror_mode": {
    "name": "ipython",
    "version": 3
   },
   "file_extension": ".py",
   "mimetype": "text/x-python",
   "name": "python",
   "nbconvert_exporter": "python",
   "pygments_lexer": "ipython3",
   "version": "3.9.2"
  },
  "orig_nbformat": 2,
  "kernelspec": {
   "name": "python392jvsc74a57bd0aee8b7b246df8f9039afb4144a1f6fd8d2ca17a180786b69acc140d282b71a49",
   "display_name": "Python 3.9.2 64-bit"
  },
  "metadata": {
   "interpreter": {
    "hash": "aee8b7b246df8f9039afb4144a1f6fd8d2ca17a180786b69acc140d282b71a49"
   }
  }
 },
 "nbformat": 4,
 "nbformat_minor": 2,
 "cells": [
  {
   "cell_type": "code",
   "execution_count": 38,
   "metadata": {},
   "outputs": [
    {
     "output_type": "execute_result",
     "data": {
      "text/plain": [
       "Unnamed: 0                int64\n",
       "property_id              object\n",
       "listing_id                int64\n",
       "products                 object\n",
       "rdc_web_url              object\n",
       "prop_type                object\n",
       "address                  object\n",
       "branding                 object\n",
       "prop_status              object\n",
       "price                     int64\n",
       "baths_full                int64\n",
       "baths                     int64\n",
       "beds                      int64\n",
       "building_size            object\n",
       "agents                   object\n",
       "office                   object\n",
       "last_update              object\n",
       "client_display_flags     object\n",
       "lead_forms               object\n",
       "photo_count               int64\n",
       "thumbnail                object\n",
       "page_no                   int64\n",
       "rank                      int64\n",
       "list_tracking            object\n",
       "lot_size                 object\n",
       "mls                      object\n",
       "data_source_name         object\n",
       "baths_half              float64\n",
       "virtual_tour             object\n",
       "dtype: object"
      ]
     },
     "metadata": {},
     "execution_count": 38
    }
   ],
   "source": [
    "import pandas as pd\n",
    "df = pd.read_csv('/Users/home/Downloads/for_sale.csv')\n",
    "df.dtypes"
   ]
  },
  {
   "cell_type": "code",
   "execution_count": 4,
   "metadata": {},
   "outputs": [
    {
     "output_type": "execute_result",
     "data": {
      "text/plain": [
       "datetime.datetime(2021, 4, 9, 2, 26, 36)"
      ]
     },
     "metadata": {},
     "execution_count": 4
    }
   ],
   "source": [
    "from datetime import datetime\n",
    "\n",
    "time = '2021-04-09T02:26:36Z'\n",
    "time = time.replace('T',' ')\n",
    "time = time.replace('Z','')\n",
    "time_in_datetime = datetime.strptime(time, \"%Y-%m-%d %H:%M:%S\")\n",
    "time_in_datetime"
   ]
  },
  {
   "cell_type": "code",
   "execution_count": 11,
   "metadata": {},
   "outputs": [
    {
     "output_type": "stream",
     "name": "stdout",
     "text": [
      "0    2021-04-09 02:34:45Z\n1    2021-04-09 02:34:45Z\n2    2021-04-09 02:34:45Z\nName: last_update_date, dtype: object\n"
     ]
    }
   ],
   "source": [
    "import pandas as pd \n",
    "df = pd.read_csv('/Users/home/Documents/GitHub/WhiteCow2/deal/deal_df.csv')\n",
    "\n",
    "for i in df.itertuples():\n",
    "    df['last_update_date'] = i.last_update_date.replace('T',' ')\n",
    "    \n",
    "print(df['last_update_date'].head())\n"
   ]
  },
  {
   "cell_type": "code",
   "execution_count": 9,
   "metadata": {},
   "outputs": [],
   "source": [
    "def formatting(df):\n",
    "    \n",
    "    column_names_json = ['primary_photo','source','description','branding','lead_attributes','photos',\n",
    "    'flags','products','other_listings','location']\n",
    "    column_names_date_time = ['last_update_date','list_date']\n",
    "\n",
    "    \n",
    "    for col in column_names_json:\n",
    "        df[col] = df[col].apply(json.dumps)\n",
    "        df[col] = df[col].apply(json.loads)\n",
    "    \n",
    "    for i in df.itertuples():\n",
    "        df['last_update_date'] = i.last_update_date.replace('T',' ')\n",
    "        df['last_update_date'] = i.last_update_date.replace('Z','')\n",
    "        \n",
    "\n",
    "        df['list_date'] = i.last_update_date.replace('T',' ')\n",
    "        df['list_date'] = i.last_update_date.replace('Z','')\n",
    "\n",
    "    return df"
   ]
  },
  {
   "cell_type": "code",
   "execution_count": 15,
   "metadata": {},
   "outputs": [
    {
     "output_type": "execute_result",
     "data": {
      "text/plain": [
       "{'a': None, 'b': 'er', 'c': None, 'd': 23}"
      ]
     },
     "metadata": {},
     "execution_count": 15
    }
   ],
   "source": [
    "dicti = {'a':'', 'b':'er','c':'','d':23}\n",
    "\n",
    "for k  in dicti :\n",
    "    if dicti[k] == '':\n",
    "        dicti[k] = None\n",
    "dicti"
   ]
  },
  {
   "cell_type": "code",
   "execution_count": 42,
   "metadata": {},
   "outputs": [
    {
     "output_type": "execute_result",
     "data": {
      "text/plain": [
       "False"
      ]
     },
     "metadata": {},
     "execution_count": 42
    }
   ],
   "source": [
    "er = {'a':''}\n",
    "er['a']==None"
   ]
  },
  {
   "cell_type": "code",
   "execution_count": 43,
   "metadata": {},
   "outputs": [],
   "source": [
    "def sum():\n",
    "    return 34\n"
   ]
  },
  {
   "cell_type": "code",
   "execution_count": 44,
   "metadata": {},
   "outputs": [],
   "source": [
    "def sum():\n",
    "    return 6"
   ]
  },
  {
   "cell_type": "code",
   "execution_count": 45,
   "metadata": {},
   "outputs": [
    {
     "output_type": "execute_result",
     "data": {
      "text/plain": [
       "6"
      ]
     },
     "metadata": {},
     "execution_count": 45
    }
   ],
   "source": [
    "sum()"
   ]
  },
  {
   "cell_type": "code",
   "execution_count": 97,
   "metadata": {
    "tags": [
     "outputPrepend"
    ]
   },
   "outputs": [
    {
     "output_type": "stream",
     "name": "stdout",
     "text": [
      "gan\",\"coordinate\":null,\"city\":\"Detroit\",\"state_code\":\"MI\",\"line\":\"Plymouth Rd\"},\"street_view_url\":\"https:\\/\\/maps.googleapis.com\\/maps\\/api\\/streetview?channel=rdc-streetview&client=gme-movesalesinc&location=Plymouth%20Rd%2C%20Detroit%2C%20MI%2048323&size=640x480&source=outdoor&signature=LIgKF55mOLw6notTQGT5jJ6zyXs=\",\"county\":null},\"matterport\":false},{\"primary_photo\":{\"href\":\"https:\\/\\/ap.rdcpix.com\\/32e893596db03bf5be0936e64d2d157dl-m3434287589s-w1024_h768.jpg\"},\"last_update_date\":\"2021-03-15T16:06:22Z\",\"source\":{\"plan_id\":null,\"agents\":[{\"office_name\":null},{\"office_name\":null}],\"spec_id\":null,\"type\":\"mls\"},\"tags\":null,\"permalink\":\"228-Belmont-St_Detroit_MI_48202_M41093-95436\",\"status\":\"for_sale\",\"list_date\":\"2021-03-24T04:43:13Z\",\"open_houses\":null,\"description\":{\"baths_3qtr\":null,\"year_built\":null,\"sold_price\":null,\"baths_full\":null,\"name\":null,\"baths_half\":null,\"lot_sqft\":4356,\"sqft\":null,\"baths\":0,\"sub_type\":null,\"baths_1qtr\":null,\"garage\":null,\"stories\":null,\"beds\":null,\"type\":\"land\"},\"branding\":[{\"name\":\"Clyde Realty LLC\",\"photo\":null,\"type\":\"Office\"}],\"list_price\":36000,\"lead_attributes\":{\"show_contact_an_agent\":true},\"property_id\":\"4109395436\",\"photos\":[{\"tags\":[{\"label\":\"yard\",\"probability\":0.99990510940552},{\"label\":\"farm_land\",\"probability\":7.5285919592716e-05},{\"label\":\"porch_yard\",\"probability\":1.5537594663328e-05}],\"href\":\"https:\\/\\/ap.rdcpix.com\\/32e893596db03bf5be0936e64d2d157dl-m3434287589s-w1024_h768.jpg\"}],\"flags\":{\"is_new_construction\":null,\"is_for_rent\":null,\"is_subdivision\":null,\"is_contingent\":null,\"is_price_reduced\":null,\"is_pending\":null,\"is_foreclosure\":null,\"is_plan\":null,\"is_coming_soon\":null,\"is_new_listing\":false},\"community\":null,\"products\":{\"brand_name\":\"basic_opt_in\"},\"virtual_tours\":null,\"other_listings\":{\"rdc\":[{\"listing_id\":\"2927018105\",\"listing_key\":null,\"status\":\"for_sale\",\"primary\":true},{\"listing_id\":\"2732707925\",\"listing_key\":null,\"status\":\"off_market\",\"primary\":null},{\"listing_id\":\"613779989\",\"listing_key\":null,\"status\":\"off_market\",\"primary\":null}]},\"listing_id\":\"2927018105\",\"price_reduced_amount\":null,\"location\":{\"address\":{\"postal_code\":\"48202\",\"state\":\"Michigan\",\"coordinate\":{\"lon\":-83.081917,\"lat\":42.389706},\"city\":\"Detroit\",\"state_code\":\"MI\",\"line\":\"228 Belmont St\"},\"street_view_url\":\"https:\\/\\/maps.googleapis.com\\/maps\\/api\\/streetview?channel=rdc-streetview&client=gme-movesalesinc&location=228%20Belmont%20St%2C%20Detroit%2C%20MI%2048202&size=640x480&source=outdoor&signature=mY-8yLC-1l0Irek8hF7rxg80ytw=\",\"county\":{\"fips_code\":\"26163\",\"name\":\"Wayne\"}},\"matterport\":false},{\"primary_photo\":{\"href\":\"https:\\/\\/ap.rdcpix.com\\/b098b506c64d86c941e6894b4aada2afl-m3027169575s-w1024_h768.jpg\"},\"last_update_date\":\"2021-03-15T16:03:12Z\",\"source\":{\"plan_id\":null,\"agents\":[{\"office_name\":null},{\"office_name\":null}],\"spec_id\":null,\"type\":\"mls\"},\"tags\":null,\"permalink\":\"267-Harmon-St_Detroit_MI_48202_M30064-44262\",\"status\":\"for_sale\",\"list_date\":\"2021-03-24T04:43:13Z\",\"open_houses\":null,\"description\":{\"baths_3qtr\":null,\"year_built\":null,\"sold_price\":null,\"baths_full\":null,\"name\":null,\"baths_half\":null,\"lot_sqft\":3485,\"sqft\":null,\"baths\":0,\"sub_type\":null,\"baths_1qtr\":null,\"garage\":null,\"stories\":null,\"beds\":null,\"type\":\"land\"},\"branding\":[{\"name\":\"Clyde Realty LLC\",\"photo\":null,\"type\":\"Office\"}],\"list_price\":36000,\"lead_attributes\":{\"show_contact_an_agent\":true},\"property_id\":\"3006444262\",\"photos\":[{\"tags\":[{\"label\":\"farm_land\",\"probability\":0.86960393190384},{\"label\":\"yard\",\"probability\":0.12953050434589},{\"label\":\"porch_yard\",\"probability\":0.00037798751145601}],\"href\":\"https:\\/\\/ap.rdcpix.com\\/b098b506c64d86c941e6894b4aada2afl-m3027169575s-w1024_h768.jpg\"}],\"flags\":{\"is_new_construction\":null,\"is_for_rent\":null,\"is_subdivision\":null,\"is_contingent\":null,\"is_price_reduced\":null,\"is_pending\":null,\"is_foreclosure\":null,\"is_plan\":null,\"is_coming_soon\":null,\"is_new_listing\":false},\"community\":null,\"products\":{\"brand_name\":\"basic_opt_in\"},\"virtual_tours\":null,\"other_listings\":{\"rdc\":[{\"listing_id\":\"2927018099\",\"listing_key\":null,\"status\":\"for_sale\",\"primary\":true},{\"listing_id\":\"2732707937\",\"listing_key\":null,\"status\":\"off_market\",\"primary\":null},{\"listing_id\":\"613779581\",\"listing_key\":null,\"status\":\"off_market\",\"primary\":null}]},\"listing_id\":\"2927018099\",\"price_reduced_amount\":null,\"location\":{\"address\":{\"postal_code\":\"48202\",\"state\":\"Michigan\",\"coordinate\":{\"lon\":-83.08266,\"lat\":42.392123},\"city\":\"Detroit\",\"state_code\":\"MI\",\"line\":\"267 Harmon St\"},\"street_view_url\":\"https:\\/\\/maps.googleapis.com\\/maps\\/api\\/streetview?channel=rdc-streetview&client=gme-movesalesinc&location=267%20Harmon%20St%2C%20Detroit%2C%20MI%2048202&size=640x480&source=outdoor&signature=phpDocW0RDFvRrWau6jqcmPu-5U=\",\"county\":{\"fips_code\":\"26163\",\"name\":\"Wayne\"}},\"matterport\":false},{\"primary_photo\":{\"href\":\"https:\\/\\/ap.rdcpix.com\\/3bde20f8df4e5f003a6c681eb9f6ebdfl-m1761784141s-w1024_h768.jpg\"},\"last_update_date\":\"2021-03-15T15:58:16Z\",\"source\":{\"plan_id\":null,\"agents\":[{\"office_name\":null},{\"office_name\":null}],\"spec_id\":null,\"type\":\"mls\"},\"tags\":null,\"permalink\":\"6512-Rosa-Parks-Blvd_Detroit_MI_48208_M44995-10546\",\"status\":\"for_sale\",\"list_date\":\"2021-03-24T04:43:13Z\",\"open_houses\":null,\"description\":{\"baths_3qtr\":null,\"year_built\":null,\"sold_price\":null,\"baths_full\":null,\"name\":null,\"baths_half\":null,\"lot_sqft\":3920,\"sqft\":null,\"baths\":0,\"sub_type\":null,\"baths_1qtr\":null,\"garage\":null,\"stories\":null,\"beds\":null,\"type\":\"land\"},\"branding\":[{\"name\":\"Clyde Realty LLC\",\"photo\":null,\"type\":\"Office\"}],\"list_price\":56000,\"lead_attributes\":{\"show_contact_an_agent\":true},\"property_id\":\"4499510546\",\"photos\":[{\"tags\":[{\"label\":\"farm_land\",\"probability\":0.52615386247635},{\"label\":\"yard\",\"probability\":0.45026606321335},{\"label\":\"road_view\",\"probability\":0.021459020674229}],\"href\":\"https:\\/\\/ap.rdcpix.com\\/3bde20f8df4e5f003a6c681eb9f6ebdfl-m1761784141s-w1024_h768.jpg\"},{\"tags\":[{\"label\":\"farm_land\",\"probability\":0.99980241060257},{\"label\":\"water_front\",\"probability\":0.00016856296861079},{\"label\":\"yard\",\"probability\":1.3738022062171e-05}],\"href\":\"https:\\/\\/ap.rdcpix.com\\/3bde20f8df4e5f003a6c681eb9f6ebdfl-m2014382534s-w1024_h768.jpg\"}],\"flags\":{\"is_new_construction\":null,\"is_for_rent\":null,\"is_subdivision\":null,\"is_contingent\":null,\"is_price_reduced\":null,\"is_pending\":null,\"is_foreclosure\":null,\"is_plan\":null,\"is_coming_soon\":null,\"is_new_listing\":false},\"community\":null,\"products\":{\"brand_name\":\"basic_opt_in\"},\"virtual_tours\":null,\"other_listings\":{\"rdc\":[{\"listing_id\":\"2927018111\",\"listing_key\":null,\"status\":\"for_sale\",\"primary\":true},{\"listing_id\":\"2733738565\",\"listing_key\":null,\"status\":\"off_market\",\"primary\":null},{\"listing_id\":\"613805009\",\"listing_key\":null,\"status\":\"off_market\",\"primary\":null}]},\"listing_id\":\"2927018111\",\"price_reduced_amount\":null,\"location\":{\"address\":{\"postal_code\":\"48208\",\"state\":\"Michigan\",\"coordinate\":{\"lon\":-83.090055,\"lat\":42.362848},\"city\":\"Detroit\",\"state_code\":\"MI\",\"line\":\"6512 Rosa Parks Blvd\"},\"street_view_url\":\"https:\\/\\/maps.googleapis.com\\/maps\\/api\\/streetview?channel=rdc-streetview&client=gme-movesalesinc&location=6512%20Rosa%20Parks%20Blvd%2C%20Detroit%2C%20MI%2048208&size=640x480&source=outdoor&signature=IeK1fp2g0mcXGt1i9RNIlsJ4wVM=\",\"county\":{\"fips_code\":\"26163\",\"name\":\"Wayne\"}},\"matterport\":false},{\"primary_photo\":{\"href\":\"https:\\/\\/ap.rdcpix.com\\/1df08dffbfd2c9b287176599d1979033l-m2715477359s-w1024_h768.jpg\"},\"last_update_date\":\"2021-03-15T16:08:13Z\",\"source\":{\"plan_id\":null,\"agents\":[{\"office_name\":null},{\"office_name\":null}],\"spec_id\":null,\"type\":\"mls\"},\"tags\":null,\"permalink\":\"2735-Ferry-Park-St_Detroit_MI_48208_M42185-42307\",\"status\":\"for_sale\",\"list_date\":\"2021-03-24T04:43:13Z\",\"open_houses\":null,\"description\":{\"baths_3qtr\":null,\"year_built\":null,\"sold_price\":null,\"baths_full\":null,\"name\":null,\"baths_half\":null,\"lot_sqft\":3920,\"sqft\":null,\"baths\":0,\"sub_type\":null,\"baths_1qtr\":null,\"garage\":null,\"stories\":null,\"beds\":null,\"type\":\"land\"},\"branding\":[{\"name\":\"Clyde Realty LLC\",\"photo\":null,\"type\":\"Office\"}],\"list_price\":22000,\"lead_attributes\":{\"show_contact_an_agent\":true},\"property_id\":\"4218542307\",\"photos\":[{\"tags\":[{\"label\":\"farm_land\",\"probability\":0.97243076562881},{\"label\":\"road_view\",\"probability\":0.018761672079563},{\"label\":\"yard\",\"probability\":0.0085222972556949}],\"href\":\"https:\\/\\/ap.rdcpix.com\\/1df08dffbfd2c9b287176599d1979033l-m2715477359s-w1024_h768.jpg\"}],\"flags\":{\"is_new_construction\":null,\"is_for_rent\":null,\"is_subdivision\":null,\"is_contingent\":null,\"is_price_reduced\":null,\"is_pending\":null,\"is_foreclosure\":null,\"is_plan\":null,\"is_coming_soon\":null,\"is_new_listing\":false},\"community\":null,\"products\":{\"brand_name\":\"basic_opt_in\"},\"virtual_tours\":null,\"other_listings\":{\"rdc\":[{\"listing_id\":\"2927019201\",\"listing_key\":null,\"status\":\"for_sale\",\"primary\":true},{\"listing_id\":\"2732699826\",\"listing_key\":null,\"status\":\"off_market\",\"primary\":null},{\"listing_id\":\"613780401\",\"listing_key\":null,\"status\":\"off_market\",\"primary\":null}]},\"listing_id\":\"2927019201\",\"price_reduced_amount\":null,\"location\":{\"address\":{\"postal_code\":\"48208\",\"state\":\"Michigan\",\"coordinate\":{\"lon\":-83.101254,\"lat\":42.358127},\"city\":\"Detroit\",\"state_code\":\"MI\",\"line\":\"2735 Ferry Park St\"},\"street_view_url\":\"https:\\/\\/maps.googleapis.com\\/maps\\/api\\/streetview?channel=rdc-streetview&client=gme-movesalesinc&location=2735%20Ferry%20Park%20St%2C%20Detroit%2C%20MI%2048208&size=640x480&source=outdoor&signature=3Yj88QKORLGuFfL-60y8V9WExZ8=\",\"county\":{\"fips_code\":\"26163\",\"name\":\"Wayne\"}},\"matterport\":false},{\"primary_photo\":{\"href\":\"https:\\/\\/ap.rdcpix.com\\/edca09e8e3220e0074ef3c00e121b307l-m2384655734s-w1024_h768.jpg\"},\"last_update_date\":\"2021-03-15T16:13:21Z\",\"source\":{\"plan_id\":null,\"agents\":[{\"office_name\":null},{\"office_name\":null}],\"spec_id\":null,\"type\":\"mls\"},\"tags\":null,\"permalink\":\"6000-Wabash-St_Detroit_MI_48208_M36574-68905\",\"status\":\"for_sale\",\"list_date\":\"2021-03-24T04:43:13Z\",\"open_houses\":null,\"description\":{\"baths_3qtr\":null,\"year_built\":null,\"sold_price\":null,\"baths_full\":null,\"name\":null,\"baths_half\":null,\"lot_sqft\":2178,\"sqft\":null,\"baths\":0,\"sub_type\":null,\"baths_1qtr\":null,\"garage\":null,\"stories\":null,\"beds\":null,\"type\":\"land\"},\"branding\":[{\"name\":\"Clyde Realty LLC\",\"photo\":null,\"type\":\"Office\"}],\"list_price\":25000,\"lead_attributes\":{\"show_contact_an_agent\":true},\"property_id\":\"3657468905\",\"photos\":[{\"tags\":[{\"label\":\"farm_land\",\"probability\":0.93053144216537},{\"label\":\"yard\",\"probability\":0.06803048402071},{\"label\":\"road_view\",\"probability\":0.0010944020468742}],\"href\":\"https:\\/\\/ap.rdcpix.com\\/edca09e8e3220e0074ef3c00e121b307l-m2384655734s-w1024_h768.jpg\"}],\"flags\":{\"is_new_construction\":null,\"is_for_rent\":null,\"is_subdivision\":null,\"is_contingent\":null,\"is_price_reduced\":null,\"is_pending\":null,\"is_foreclosure\":null,\"is_plan\":null,\"is_coming_soon\":null,\"is_new_listing\":false},\"community\":null,\"products\":{\"brand_name\":\"basic_opt_in\"},\"virtual_tours\":null,\"other_listings\":{\"rdc\":[{\"listing_id\":\"2927019204\",\"listing_key\":null,\"status\":\"for_sale\",\"primary\":true},{\"listing_id\":\"2732699887\",\"listing_key\":null,\"status\":\"off_market\",\"primary\":null},{\"listing_id\":\"613799525\",\"listing_key\":null,\"status\":\"off_market\",\"primary\":null}]},\"listing_id\":\"2927019204\",\"price_reduced_amount\":null,\"location\":{\"address\":{\"postal_code\":\"48208\",\"state\":\"Michigan\",\"coordinate\":{\"lon\":-83.090177,\"lat\":42.358649},\"city\":\"Detroit\",\"state_code\":\"MI\",\"line\":\"6000 Wabash St\"},\"street_view_url\":\"https:\\/\\/maps.googleapis.com\\/maps\\/api\\/streetview?channel=rdc-streetview&client=gme-movesalesinc&location=6000%20Wabash%20St%2C%20Detroit%2C%20MI%2048208&size=640x480&source=outdoor&signature=zZy-eCz1ANFy_71AziCUOHrbNE0=\",\"county\":{\"fips_code\":\"26163\",\"name\":\"Wayne\"}},\"matterport\":false},{\"primary_photo\":{\"href\":\"https:\\/\\/ap.rdcpix.com\\/cbcc533f103e19d88a3d4d344ef10e30l-m1892787603s-w1024_h768.jpg\"},\"last_update_date\":\"2021-03-15T16:15:17Z\",\"source\":{\"plan_id\":null,\"agents\":[{\"office_name\":null},{\"office_name\":null}],\"spec_id\":null,\"type\":\"mls\"},\"tags\":null,\"permalink\":\"5928-Wabash-St_Detroit_MI_48208_M36537-79577\",\"status\":\"for_sale\",\"list_date\":\"2021-03-24T04:43:13Z\",\"open_houses\":null,\"description\":{\"baths_3qtr\":null,\"year_built\":null,\"sold_price\":null,\"baths_full\":null,\"name\":null,\"baths_half\":null,\"lot_sqft\":3920,\"sqft\":null,\"baths\":0,\"sub_type\":null,\"baths_1qtr\":null,\"garage\":null,\"stories\":null,\"beds\":null,\"type\":\"land\"},\"branding\":[{\"name\":\"Clyde Realty LLC\",\"photo\":null,\"type\":\"Office\"}],\"list_price\":25000,\"lead_attributes\":{\"show_contact_an_agent\":true},\"property_id\":\"3653779577\",\"photos\":[{\"tags\":[{\"label\":\"yard\",\"probability\":0.82346534729004},{\"label\":\"farm_land\",\"probability\":0.17635788023472},{\"label\":\"road_view\",\"probability\":7.7267672168091e-05}],\"href\":\"https:\\/\\/ap.rdcpix.com\\/cbcc533f103e19d88a3d4d344ef10e30l-m1892787603s-w1024_h768.jpg\"}],\"flags\":{\"is_new_construction\":null,\"is_for_rent\":null,\"is_subdivision\":null,\"is_contingent\":null,\"is_price_reduced\":null,\"is_pending\":null,\"is_foreclosure\":null,\"is_plan\":null,\"is_coming_soon\":null,\"is_new_listing\":false},\"community\":null,\"products\":{\"brand_name\":\"basic_opt_in\"},\"virtual_tours\":null,\"other_listings\":{\"rdc\":[{\"listing_id\":\"2927019206\",\"listing_key\":null,\"status\":\"for_sale\",\"primary\":true},{\"listing_id\":\"2732699897\",\"listing_key\":null,\"status\":\"off_market\",\"primary\":null},{\"listing_id\":\"613800321\",\"listing_key\":null,\"status\":\"off_market\",\"primary\":null}]},\"listing_id\":\"2927019206\",\"price_reduced_amount\":null,\"location\":{\"address\":{\"postal_code\":\"48208\",\"state\":\"Michigan\",\"coordinate\":{\"lon\":-83.089564,\"lat\":42.357753},\"city\":\"Detroit\",\"state_code\":\"MI\",\"line\":\"5928 Wabash St\"},\"street_view_url\":\"https:\\/\\/maps.googleapis.com\\/maps\\/api\\/streetview?channel=rdc-streetview&client=gme-movesalesinc&location=5928%20Wabash%20St%2C%20Detroit%2C%20MI%2048208&size=640x480&source=outdoor&signature=pcUUCrYKaVG30_TVs8knpXsu21I=\",\"county\":{\"fips_code\":\"26163\",\"name\":\"Wayne\"}},\"matterport\":false},{\"primary_photo\":{\"href\":\"https:\\/\\/ap.rdcpix.com\\/f2d3e9fce38209b5a50506fc710b465fl-m1439261673s-w1024_h768.jpg\"},\"last_update_date\":\"2021-03-31T15:03:53Z\",\"source\":{\"plan_id\":null,\"agents\":[{\"office_name\":null}],\"spec_id\":null,\"type\":\"mls\"},\"tags\":null,\"permalink\":\"15301-Joy-Rd_Detroit_MI_48228_M91851-94391\",\"status\":\"for_sale\",\"list_date\":\"2021-03-31T19:07:50Z\",\"open_houses\":null,\"description\":{\"baths_3qtr\":null,\"year_built\":null,\"sold_price\":null,\"baths_full\":null,\"name\":null,\"baths_half\":null,\"lot_sqft\":4356,\"sqft\":null,\"baths\":0,\"sub_type\":null,\"baths_1qtr\":null,\"garage\":null,\"stories\":null,\"beds\":null,\"type\":\"land\"},\"branding\":[{\"name\":\"Keller Williams Legacy\",\"photo\":null,\"type\":\"Office\"}],\"list_price\":45000,\"lead_attributes\":{\"show_contact_an_agent\":true},\"property_id\":\"9185194391\",\"photos\":[{\"tags\":[{\"label\":\"farm_land\",\"probability\":0.76707738637924},{\"label\":\"yard\",\"probability\":0.12104219943285},{\"label\":\"road_view\",\"probability\":0.11062180250883}],\"href\":\"https:\\/\\/ap.rdcpix.com\\/f2d3e9fce38209b5a50506fc710b465fl-m1439261673s-w1024_h768.jpg\"}],\"flags\":{\"is_new_construction\":null,\"is_for_rent\":null,\"is_subdivision\":null,\"is_contingent\":null,\"is_price_reduced\":null,\"is_pending\":null,\"is_foreclosure\":null,\"is_plan\":null,\"is_coming_soon\":null,\"is_new_listing\":true},\"community\":null,\"products\":{\"brand_name\":\"essentials\"},\"virtual_tours\":null,\"other_listings\":{\"rdc\":[{\"listing_id\":\"2927565025\",\"listing_key\":null,\"status\":\"for_sale\",\"primary\":true}]},\"listing_id\":\"2927565025\",\"price_reduced_amount\":null,\"location\":{\"address\":{\"postal_code\":\"48228\",\"state\":\"Michigan\",\"coordinate\":{\"lon\":-83.195013,\"lat\":42.357917},\"city\":\"Detroit\",\"state_code\":\"MI\",\"line\":\"15301 Joy Rd\"},\"street_view_url\":\"https:\\/\\/maps.googleapis.com\\/maps\\/api\\/streetview?channel=rdc-streetview&client=gme-movesalesinc&location=15301%20Joy%20Rd%2C%20Detroit%2C%20MI%2048228&size=640x480&source=outdoor&signature=Rw1Q5X_QGJWR6kbulaRaI8DfCXc=\",\"county\":{\"fips_code\":\"26163\",\"name\":\"Wayne\"}},\"matterport\":false},{\"primary_photo\":{\"href\":\"https:\\/\\/ap.rdcpix.com\\/9850b6d39ea79594f6f1ac7732c3ba45l-m3923536237s-w1024_h768.jpg\"},\"last_update_date\":\"2021-03-15T16:30:35Z\",\"source\":{\"plan_id\":null,\"agents\":[{\"office_name\":null},{\"office_name\":null}],\"spec_id\":null,\"type\":\"mls\"},\"tags\":[\"river_view\",\"view\",\"water_view\",\"basement\",\"waterfront\",\"rental_property\",\"big_lot\",\"lake_view\"],\"permalink\":\"14719-Riverside-Blvd_Detroit_MI_48215_M44826-66859\",\"status\":\"for_sale\",\"list_date\":\"2021-03-24T04:43:13Z\",\"open_houses\":null,\"description\":{\"baths_3qtr\":null,\"year_built\":null,\"sold_price\":54000,\"baths_full\":null,\"name\":null,\"baths_half\":null,\"lot_sqft\":60984,\"sqft\":null,\"baths\":0,\"sub_type\":null,\"baths_1qtr\":null,\"garage\":null,\"stories\":null,\"beds\":null,\"type\":\"land\"},\"branding\":[{\"name\":\"Clyde Realty LLC\",\"photo\":null,\"type\":\"Office\"}],\"list_price\":1550000,\"lead_attributes\":{\"show_contact_an_agent\":true},\"property_id\":\"4482666859\",\"photos\":[{\"tags\":[{\"label\":\"road_view\",\"probability\":0.8178882598877},{\"label\":\"water_front\",\"probability\":0.14806094765663},{\"label\":\"house_view\",\"probability\":0.016089458018541}],\"href\":\"https:\\/\\/ap.rdcpix.com\\/9850b6d39ea79594f6f1ac7732c3ba45l-m3923536237s-w1024_h768.jpg\"},{\"tags\":[{\"label\":\"water_front\",\"probability\":0.99785524606705},{\"label\":\"road_view\",\"probability\":0.0020930836908519},{\"label\":\"farm_land\",\"probability\":4.7609475586796e-05}],\"href\":\"https:\\/\\/ap.rdcpix.com\\/9850b6d39ea79594f6f1ac7732c3ba45l-m804305434s-w1024_h768.jpg\"},{\"tags\":[{\"label\":\"water_front\",\"probability\":0.99831223487854},{\"label\":\"road_view\",\"probability\":0.0016791758826002},{\"label\":\"farm_land\",\"probability\":8.488346793456e-06}],\"href\":\"https:\\/\\/ap.rdcpix.com\\/9850b6d39ea79594f6f1ac7732c3ba45l-m3650892410s-w1024_h768.jpg\"},{\"tags\":[{\"label\":\"road_view\",\"probability\":0.87358683347702},{\"label\":\"farm_land\",\"probability\":0.10507618635893},{\"label\":\"water_front\",\"probability\":0.021034676581621}],\"href\":\"https:\\/\\/ap.rdcpix.com\\/9850b6d39ea79594f6f1ac7732c3ba45l-m978935448s-w1024_h768.jpg\"},{\"tags\":[{\"label\":\"water_front\",\"probability\":0.75645899772644},{\"label\":\"road_view\",\"probability\":0.24113060534},{\"label\":\"farm_land\",\"probability\":0.0018729547737166}],\"href\":\"https:\\/\\/ap.rdcpix.com\\/9850b6d39ea79594f6f1ac7732c3ba45l-m1835491575s-w1024_h768.jpg\"}],\"flags\":{\"is_new_construction\":null,\"is_for_rent\":null,\"is_subdivision\":null,\"is_contingent\":null,\"is_price_reduced\":null,\"is_pending\":null,\"is_foreclosure\":null,\"is_plan\":null,\"is_coming_soon\":null,\"is_new_listing\":false},\"community\":null,\"products\":{\"brand_name\":\"basic_opt_in\"},\"virtual_tours\":null,\"other_listings\":{\"rdc\":[{\"listing_id\":\"2927020143\",\"listing_key\":null,\"status\":\"for_sale\",\"primary\":true},{\"listing_id\":\"2927020146\",\"listing_key\":null,\"status\":\"for_sale\",\"primary\":null},{\"listing_id\":\"2924095385\",\"listing_key\":null,\"status\":\"off_market\",\"primary\":null},{\"listing_id\":\"2923851993\",\"listing_key\":null,\"status\":\"off_market\",\"primary\":null},{\"listing_id\":\"614407065\",\"listing_key\":null,\"status\":\"off_market\",\"primary\":null},{\"listing_id\":\"604970729\",\"listing_key\":null,\"status\":\"off_market\",\"primary\":null},{\"listing_id\":\"591744497\",\"listing_key\":null,\"status\":\"off_market\",\"primary\":null},{\"listing_id\":\"575033101\",\"listing_key\":null,\"status\":\"off_market\",\"primary\":null},{\"listing_id\":\"515102561\",\"listing_key\":null,\"status\":\"off_market\",\"primary\":null},{\"listing_id\":\"514060133\",\"listing_key\":null,\"status\":\"off_market\",\"primary\":null},{\"listing_id\":\"508931653\",\"listing_key\":null,\"status\":\"off_market\",\"primary\":null}]},\"listing_id\":\"2927020143\",\"price_reduced_amount\":null,\"location\":{\"address\":{\"postal_code\":\"48215\",\"state\":\"Michigan\",\"coordinate\":{\"lon\":-82.930648,\"lat\":42.360161},\"city\":\"Detroit\",\"state_code\":\"MI\",\"line\":\"14719 Riverside Blvd\"},\"street_view_url\":\"https:\\/\\/maps.googleapis.com\\/maps\\/api\\/streetview?channel=rdc-streetview&client=gme-movesalesinc&location=14719%20Riverside%20Blvd%2C%20Detroit%2C%20MI%2048215&size=640x480&source=outdoor&signature=YLyfbAvYu1qw0dvp0OXVQLsAI4Q=\",\"county\":{\"fips_code\":\"26163\",\"name\":\"Wayne\"}},\"matterport\":false}]}}\n"
     ]
    }
   ],
   "source": [
    "import requests\n",
    "import json\n",
    "\n",
    "url = \"https://realtor-com-real-estate.p.rapidapi.com/for-sale\"\n",
    "\n",
    "querystring = {\"city\":\"Detroit\",\"state_code\":\"MI\", \"property_type\": \"land\"}\n",
    "\n",
    "headers = {\n",
    "    'x-rapidapi-key': \"af2b0d8315mshd2cfb886121c4b2p149f15jsn85834aeacb17\",\n",
    "    'x-rapidapi-host': \"realtor-com-real-estate.p.rapidapi.com\"\n",
    "    }\n",
    "\n",
    "response = requests.request(\"GET\", url, headers=headers, params=querystring)\n",
    "\n",
    "print(response.text)"
   ]
  },
  {
   "cell_type": "code",
   "execution_count": 98,
   "metadata": {},
   "outputs": [],
   "source": [
    "import pandas as pd\n",
    "def process_query_response(response):\n",
    "    if response is not None:  \n",
    "        content = json.loads(response.content)\n",
    "        df = pd.DataFrame.from_dict(content['data']['results'])\n",
    "        return df \n",
    "    else:\n",
    "        return None"
   ]
  },
  {
   "cell_type": "code",
   "execution_count": 99,
   "metadata": {},
   "outputs": [],
   "source": [
    "df = process_query_response(response)\n",
    "df.to_csv(\"land.csv\")"
   ]
  },
  {
   "cell_type": "code",
   "execution_count": 57,
   "metadata": {},
   "outputs": [
    {
     "output_type": "execute_result",
     "data": {
      "text/plain": [
       "Index(['Unnamed: 0', 'primary_photo', 'last_update_date', 'source', 'tags',\n",
       "       'permalink', 'status', 'list_date', 'open_houses', 'description',\n",
       "       'branding', 'list_price', 'lead_attributes', 'property_id', 'photos',\n",
       "       'flags', 'community', 'products', 'virtual_tours', 'other_listings',\n",
       "       'listing_id', 'price_reduced_amount', 'location', 'matterport'],\n",
       "      dtype='object')"
      ]
     },
     "metadata": {},
     "execution_count": 57
    }
   ],
   "source": [
    "import pandas as pd\n",
    "response1 = response.json()\n",
    "df = pd.read_csv('/Users/home/Documents/GitHub/WhiteCow2/sale.csv')\n",
    "df.columns"
   ]
  },
  {
   "cell_type": "code",
   "execution_count": 92,
   "metadata": {},
   "outputs": [
    {
     "output_type": "execute_result",
     "data": {
      "text/plain": [
       "[6920099782,\n",
       " 6293157865,\n",
       " 5433677505,\n",
       " 5915841572,\n",
       " 6907169722,\n",
       " 6983179650,\n",
       " 5067129694]"
      ]
     },
     "metadata": {},
     "execution_count": 92
    }
   ],
   "source": [
    "propert = df['property_id'].tolist()[:7]\n",
    "\n",
    "propert"
   ]
  },
  {
   "cell_type": "code",
   "execution_count": 67,
   "metadata": {},
   "outputs": [],
   "source": [
    "id = propert[1]\n",
    "import requests\n",
    "import json\n",
    "\n",
    "url = \"https://realtor-com-real-estate.p.rapidapi.com/for-sale/home-estimate-value\"\n",
    "\n",
    "querystring = {\"property_id\":id}\n",
    "\n",
    "headers = {\n",
    "    'x-rapidapi-key': \"af2b0d8315mshd2cfb886121c4b2p149f15jsn85834aeacb17\",\n",
    "    'x-rapidapi-host': \"realtor-com-real-estate.p.rapidapi.com\"\n",
    "    }\n",
    "\n",
    "response = requests.request(\"GET\", url, headers=headers, params=querystring)\n",
    "\n",
    "data = json.loads(response.content)"
   ]
  },
  {
   "cell_type": "code",
   "execution_count": 68,
   "metadata": {},
   "outputs": [],
   "source": [
    "url_estimate = \"https://realtor-com-real-estate.p.rapidapi.com/for-sale/home-estimate-value\"\n",
    "api_key=\"af2b0d8315mshd2cfb886121c4b2p149f15jsn85834aeacb17\"\n",
    "host = \"realtor-com-real-estate.p.rapidapi.com\"\n",
    "def get_estimate_value(property_id):\n",
    "    try:\n",
    "        url = url_estimate\n",
    "        querystring = {\"property_id\":property_id}\n",
    "        headers = {\n",
    "        'x-rapidapi-key': api_key,\n",
    "        'x-rapidapi-host': host\n",
    "        }\n",
    "        response = requests.request(\"GET\", url, headers=headers, params=querystring)\n",
    "        data = json.loads(response.content)\n",
    "        return data\n",
    "    except:\n",
    "        return None\n"
   ]
  },
  {
   "cell_type": "code",
   "execution_count": 69,
   "metadata": {},
   "outputs": [],
   "source": [
    "data = get_estimate_value(id)\n"
   ]
  },
  {
   "cell_type": "code",
   "execution_count": 75,
   "metadata": {},
   "outputs": [],
   "source": [
    "def calculate_deal(list_property_id, df):\n",
    "    deal_dict = {}\n",
    "    for_cast = None\n",
    "    for list_ in list_property_id:\n",
    "        data = get_estimate_value(list_)\n",
    "        try:\n",
    "            for_cast= data['data']['forecast_values'][0]['estimates'][-1]['estimate']\n",
    "        except:\n",
    "            for_cast= 0\n",
    "        df2 =df[df[\"property_id\"] == list_][\"list_price\"]\n",
    "        initial=df2.to_list()[0]\n",
    "        percentage_change = ((for_cast - initial)/initial) *100\n",
    "        deal_dict[list_] = percentage_change\n",
    "    return deal_dict\n"
   ]
  },
  {
   "cell_type": "code",
   "execution_count": 76,
   "metadata": {},
   "outputs": [
    {
     "output_type": "execute_result",
     "data": {
      "text/plain": [
       "{6920099782: -12.63450740173558,\n",
       " 6293157865: 144.53566958698374,\n",
       " 5433677505: -30.357047576700758,\n",
       " 5915841572: -7.049999999999999,\n",
       " 6907169722: -36.4228,\n",
       " 6983179650: 23.81818181818182,\n",
       " 5067129694: 35.58518518518519}"
      ]
     },
     "metadata": {},
     "execution_count": 76
    }
   ],
   "source": [
    "deal = calculate_deal(propert, df)\n",
    "deal"
   ]
  },
  {
   "cell_type": "code",
   "execution_count": null,
   "metadata": {},
   "outputs": [],
   "source": [
    "def get_deal_datafrane(deal_dict, df):\n",
    "    sort_deal = sorted(deal_dict.items(), key=lambda x: x[1], reverse=True)\n",
    "    property_id_deal = [k[0] for k in sort_deal][:3]\n",
    "    df_deal = df[df['property_id'].isin(property_id_deal) ]\n",
    "    return df_deal"
   ]
  },
  {
   "cell_type": "code",
   "execution_count": 90,
   "metadata": {},
   "outputs": [
    {
     "output_type": "execute_result",
     "data": {
      "text/plain": [
       "[6293157865, 5067129694, 6983179650]"
      ]
     },
     "metadata": {},
     "execution_count": 90
    }
   ],
   "source": [
    "sort_deal = sorted(deal.items(), key=lambda x: x[1], reverse=True)\n",
    "\n",
    "property_id_deal = [k[0] for k in sort_deal][:3]\n",
    "property_id_deal"
   ]
  },
  {
   "cell_type": "code",
   "execution_count": 91,
   "metadata": {},
   "outputs": [
    {
     "output_type": "execute_result",
     "data": {
      "text/plain": [
       "   Unnamed: 0  ... matterport\n",
       "1           1  ...      False\n",
       "5           5  ...      False\n",
       "6           6  ...      False\n",
       "\n",
       "[3 rows x 24 columns]"
      ],
      "text/html": "<div>\n<style scoped>\n    .dataframe tbody tr th:only-of-type {\n        vertical-align: middle;\n    }\n\n    .dataframe tbody tr th {\n        vertical-align: top;\n    }\n\n    .dataframe thead th {\n        text-align: right;\n    }\n</style>\n<table border=\"1\" class=\"dataframe\">\n  <thead>\n    <tr style=\"text-align: right;\">\n      <th></th>\n      <th>Unnamed: 0</th>\n      <th>primary_photo</th>\n      <th>last_update_date</th>\n      <th>source</th>\n      <th>tags</th>\n      <th>permalink</th>\n      <th>status</th>\n      <th>list_date</th>\n      <th>open_houses</th>\n      <th>description</th>\n      <th>branding</th>\n      <th>list_price</th>\n      <th>lead_attributes</th>\n      <th>property_id</th>\n      <th>photos</th>\n      <th>flags</th>\n      <th>community</th>\n      <th>products</th>\n      <th>virtual_tours</th>\n      <th>other_listings</th>\n      <th>listing_id</th>\n      <th>price_reduced_amount</th>\n      <th>location</th>\n      <th>matterport</th>\n    </tr>\n  </thead>\n  <tbody>\n    <tr>\n      <th>1</th>\n      <td>1</td>\n      <td>{'href': 'https://ap.rdcpix.com/168f1620e7e061...</td>\n      <td>2021-04-09T02:34:45Z</td>\n      <td>{'plan_id': None, 'agents': [{'office_name': N...</td>\n      <td>['central_air', 'forced_air', 'view', 'single_...</td>\n      <td>815-Cook-Rd_Durham_NC_27713_M62931-57865</td>\n      <td>for_sale</td>\n      <td>2021-04-09T02:26:36Z</td>\n      <td>NaN</td>\n      <td>{'baths_3qtr': None, 'year_built': 1945, 'sold...</td>\n      <td>[{'name': 'Vylla Home', 'photo': None, 'type':...</td>\n      <td>79900</td>\n      <td>{'show_contact_an_agent': True}</td>\n      <td>6293157865</td>\n      <td>[{'tags': [{'label': 'house_view', 'probabilit...</td>\n      <td>{'is_new_construction': None, 'is_for_rent': N...</td>\n      <td>NaN</td>\n      <td>{'brand_name': 'essentials'}</td>\n      <td>NaN</td>\n      <td>{'rdc': [{'listing_id': '2927936722', 'listing...</td>\n      <td>2927936722</td>\n      <td>NaN</td>\n      <td>{'address': {'postal_code': '27713', 'state': ...</td>\n      <td>False</td>\n    </tr>\n    <tr>\n      <th>5</th>\n      <td>5</td>\n      <td>{'href': 'https://ap.rdcpix.com/b46fe04c01f1f3...</td>\n      <td>2021-04-12T03:30:43Z</td>\n      <td>{'plan_id': None, 'agents': [{'office_name': N...</td>\n      <td>['central_air', 'community_outdoor_space', 'fi...</td>\n      <td>1717-Collier-Dr_Durham_NC_27707_M69831-79650</td>\n      <td>for_sale</td>\n      <td>2021-04-08T23:40:34Z</td>\n      <td>NaN</td>\n      <td>{'baths_3qtr': None, 'year_built': 1982, 'sold...</td>\n      <td>[{'name': 'Re/Max One Hundred', 'photo': None,...</td>\n      <td>165000</td>\n      <td>{'show_contact_an_agent': True}</td>\n      <td>6983179650</td>\n      <td>[{'tags': [{'label': 'porch_yard', 'probabilit...</td>\n      <td>{'is_new_construction': None, 'is_for_rent': N...</td>\n      <td>NaN</td>\n      <td>{'brand_name': 'essentials'}</td>\n      <td>NaN</td>\n      <td>{'rdc': [{'listing_id': '2927931702', 'listing...</td>\n      <td>2927931702</td>\n      <td>NaN</td>\n      <td>{'address': {'postal_code': '27707', 'state': ...</td>\n      <td>False</td>\n    </tr>\n    <tr>\n      <th>6</th>\n      <td>6</td>\n      <td>{'href': 'https://ap.rdcpix.com/7bfff8e516536e...</td>\n      <td>2021-04-12T16:05:02Z</td>\n      <td>{'plan_id': None, 'agents': [{'office_name': N...</td>\n      <td>['central_air', 'community_outdoor_space', 'de...</td>\n      <td>1106-Lady-Banks-Dr_Durham_NC_27703_M50671-29694</td>\n      <td>for_sale</td>\n      <td>2021-04-12T12:13:13Z</td>\n      <td>NaN</td>\n      <td>{'baths_3qtr': None, 'year_built': 1998, 'sold...</td>\n      <td>[{'name': 'Howard Perry and Walston Durham', '...</td>\n      <td>189000</td>\n      <td>{'show_contact_an_agent': True}</td>\n      <td>5067129694</td>\n      <td>[{'tags': [{'label': 'bedroom', 'probability':...</td>\n      <td>{'is_new_construction': None, 'is_for_rent': N...</td>\n      <td>NaN</td>\n      <td>{'brand_name': 'essentials'}</td>\n      <td>NaN</td>\n      <td>{'rdc': [{'listing_id': '2928032176', 'listing...</td>\n      <td>2928032176</td>\n      <td>NaN</td>\n      <td>{'address': {'postal_code': '27703', 'state': ...</td>\n      <td>False</td>\n    </tr>\n  </tbody>\n</table>\n</div>"
     },
     "metadata": {},
     "execution_count": 91
    }
   ],
   "source": [
    "df_deal = df[df['property_id'].isin(property_id_deal) ]\n",
    "df_deal"
   ]
  },
  {
   "cell_type": "code",
   "execution_count": 89,
   "metadata": {},
   "outputs": [],
   "source": [
    "df_deal.to_csv('deal_df.csv')"
   ]
  },
  {
   "cell_type": "code",
   "execution_count": 70,
   "metadata": {},
   "outputs": [
    {
     "output_type": "execute_result",
     "data": {
      "text/plain": [
       "195384"
      ]
     },
     "metadata": {},
     "execution_count": 70
    }
   ],
   "source": [
    "for_cast= data['data']['forecast_values'][0]['estimates'][-1]['estimate']\n",
    "for_cast"
   ]
  },
  {
   "cell_type": "code",
   "execution_count": 71,
   "metadata": {},
   "outputs": [],
   "source": [
    "df2 =df[df[\"property_id\"] == id][\"list_price\"]"
   ]
  },
  {
   "cell_type": "code",
   "execution_count": 72,
   "metadata": {},
   "outputs": [
    {
     "output_type": "execute_result",
     "data": {
      "text/plain": [
       "79900"
      ]
     },
     "metadata": {},
     "execution_count": 72
    }
   ],
   "source": [
    "initial=df2.to_list()[0]\n",
    "initial"
   ]
  },
  {
   "cell_type": "code",
   "execution_count": 73,
   "metadata": {},
   "outputs": [
    {
     "output_type": "execute_result",
     "data": {
      "text/plain": [
       "144.53566958698374"
      ]
     },
     "metadata": {},
     "execution_count": 73
    }
   ],
   "source": [
    "percentage_change = ((for_cast - initial)/initial) *100\n",
    "percentage_change"
   ]
  },
  {
   "cell_type": "code",
   "execution_count": null,
   "metadata": {},
   "outputs": [],
   "source": []
  },
  {
   "cell_type": "code",
   "execution_count": 78,
   "metadata": {},
   "outputs": [],
   "source": [
    "def process_json_response(response_json):\n",
    "\n",
    "    \"\"\"\n",
    "        Process the list for sale API response.\n",
    "        Convert each listing to a dataframe, append to a list, and concatenate to one dataframe.\n",
    "\n",
    "        Parameters\n",
    "        ----------\n",
    "        @response_json [dictionary]: API response from search_query\n",
    "\n",
    "        Returns\n",
    "        -------\n",
    "        [dataframe] Dataframe of all list for responses\n",
    "\n",
    "    \"\"\"\n",
    "\n",
    "        # empty dataframe\n",
    "    dataframe_list = []\n",
    "    if response_json is not None:\n",
    "       \n",
    "        # iterate through each for sale listing\n",
    "\n",
    "        for l in response_json[\"data\"][\"results\"]:\n",
    "\n",
    "                # convert each listing to dataframe\n",
    "            _temp_df = pd.DataFrame.from_dict(l, orient='index').T   #\n",
    "            _temp_df = _temp_df.transpose()\n",
    "\n",
    "            # append to dataframe list for all listings\n",
    "            dataframe_list.append(_temp_df)\n",
    "\n",
    "            # concatenate all dataframes, for missing col values enter null value\n",
    "        return pd.concat(dataframe_list, axis=0, ignore_index=True, sort=False)\n",
    "    else:\n",
    "        \n",
    "        return None"
   ]
  },
  {
   "cell_type": "code",
   "execution_count": null,
   "metadata": {},
   "outputs": [],
   "source": []
  },
  {
   "cell_type": "code",
   "execution_count": 79,
   "metadata": {},
   "outputs": [
    {
     "output_type": "error",
     "ename": "TypeError",
     "evalue": "object of type 'int' has no len()",
     "traceback": [
      "\u001b[0;31m---------------------------------------------------------------------------\u001b[0m",
      "\u001b[0;31mTypeError\u001b[0m                                 Traceback (most recent call last)",
      "\u001b[0;32m<ipython-input-79-d488a844caae>\u001b[0m in \u001b[0;36m<module>\u001b[0;34m\u001b[0m\n\u001b[0;32m----> 1\u001b[0;31m \u001b[0mdf\u001b[0m \u001b[0;34m=\u001b[0m \u001b[0mprocess_json_response\u001b[0m\u001b[0;34m(\u001b[0m\u001b[0mresponse1\u001b[0m\u001b[0;34m)\u001b[0m\u001b[0;34m\u001b[0m\u001b[0;34m\u001b[0m\u001b[0m\n\u001b[0m",
      "\u001b[0;32m<ipython-input-78-0cf27899db7f>\u001b[0m in \u001b[0;36mprocess_json_response\u001b[0;34m(response_json)\u001b[0m\n\u001b[1;32m     24\u001b[0m \u001b[0;34m\u001b[0m\u001b[0m\n\u001b[1;32m     25\u001b[0m                 \u001b[0;31m# convert each listing to dataframe\u001b[0m\u001b[0;34m\u001b[0m\u001b[0;34m\u001b[0m\u001b[0;34m\u001b[0m\u001b[0m\n\u001b[0;32m---> 26\u001b[0;31m             \u001b[0m_temp_df\u001b[0m \u001b[0;34m=\u001b[0m \u001b[0mpd\u001b[0m\u001b[0;34m.\u001b[0m\u001b[0mDataFrame\u001b[0m\u001b[0;34m.\u001b[0m\u001b[0mfrom_dict\u001b[0m\u001b[0;34m(\u001b[0m\u001b[0ml\u001b[0m\u001b[0;34m,\u001b[0m \u001b[0morient\u001b[0m\u001b[0;34m=\u001b[0m\u001b[0;34m'index'\u001b[0m\u001b[0;34m)\u001b[0m\u001b[0;34m.\u001b[0m\u001b[0mT\u001b[0m   \u001b[0;31m#\u001b[0m\u001b[0;34m\u001b[0m\u001b[0;34m\u001b[0m\u001b[0m\n\u001b[0m\u001b[1;32m     27\u001b[0m             \u001b[0m_temp_df\u001b[0m \u001b[0;34m=\u001b[0m \u001b[0m_temp_df\u001b[0m\u001b[0;34m.\u001b[0m\u001b[0mtranspose\u001b[0m\u001b[0;34m(\u001b[0m\u001b[0;34m)\u001b[0m\u001b[0;34m\u001b[0m\u001b[0;34m\u001b[0m\u001b[0m\n\u001b[1;32m     28\u001b[0m \u001b[0;34m\u001b[0m\u001b[0m\n",
      "\u001b[0;32m/Library/Frameworks/Python.framework/Versions/3.9/lib/python3.9/site-packages/pandas/core/frame.py\u001b[0m in \u001b[0;36mfrom_dict\u001b[0;34m(cls, data, orient, dtype, columns)\u001b[0m\n\u001b[1;32m   1371\u001b[0m             \u001b[0;32mraise\u001b[0m \u001b[0mValueError\u001b[0m\u001b[0;34m(\u001b[0m\u001b[0;34m\"only recognize index or columns for orient\"\u001b[0m\u001b[0;34m)\u001b[0m\u001b[0;34m\u001b[0m\u001b[0;34m\u001b[0m\u001b[0m\n\u001b[1;32m   1372\u001b[0m \u001b[0;34m\u001b[0m\u001b[0m\n\u001b[0;32m-> 1373\u001b[0;31m         \u001b[0;32mreturn\u001b[0m \u001b[0mcls\u001b[0m\u001b[0;34m(\u001b[0m\u001b[0mdata\u001b[0m\u001b[0;34m,\u001b[0m \u001b[0mindex\u001b[0m\u001b[0;34m=\u001b[0m\u001b[0mindex\u001b[0m\u001b[0;34m,\u001b[0m \u001b[0mcolumns\u001b[0m\u001b[0;34m=\u001b[0m\u001b[0mcolumns\u001b[0m\u001b[0;34m,\u001b[0m \u001b[0mdtype\u001b[0m\u001b[0;34m=\u001b[0m\u001b[0mdtype\u001b[0m\u001b[0;34m)\u001b[0m\u001b[0;34m\u001b[0m\u001b[0;34m\u001b[0m\u001b[0m\n\u001b[0m\u001b[1;32m   1374\u001b[0m \u001b[0;34m\u001b[0m\u001b[0m\n\u001b[1;32m   1375\u001b[0m     def to_numpy(\n",
      "\u001b[0;32m/Library/Frameworks/Python.framework/Versions/3.9/lib/python3.9/site-packages/pandas/core/frame.py\u001b[0m in \u001b[0;36m__init__\u001b[0;34m(self, data, index, columns, dtype, copy)\u001b[0m\n\u001b[1;32m    568\u001b[0m                     \u001b[0;32mif\u001b[0m \u001b[0mis_named_tuple\u001b[0m\u001b[0;34m(\u001b[0m\u001b[0mdata\u001b[0m\u001b[0;34m[\u001b[0m\u001b[0;36m0\u001b[0m\u001b[0;34m]\u001b[0m\u001b[0;34m)\u001b[0m \u001b[0;32mand\u001b[0m \u001b[0mcolumns\u001b[0m \u001b[0;32mis\u001b[0m \u001b[0;32mNone\u001b[0m\u001b[0;34m:\u001b[0m\u001b[0;34m\u001b[0m\u001b[0;34m\u001b[0m\u001b[0m\n\u001b[1;32m    569\u001b[0m                         \u001b[0mcolumns\u001b[0m \u001b[0;34m=\u001b[0m \u001b[0mdata\u001b[0m\u001b[0;34m[\u001b[0m\u001b[0;36m0\u001b[0m\u001b[0;34m]\u001b[0m\u001b[0;34m.\u001b[0m\u001b[0m_fields\u001b[0m\u001b[0;34m\u001b[0m\u001b[0;34m\u001b[0m\u001b[0m\n\u001b[0;32m--> 570\u001b[0;31m                     \u001b[0marrays\u001b[0m\u001b[0;34m,\u001b[0m \u001b[0mcolumns\u001b[0m \u001b[0;34m=\u001b[0m \u001b[0mto_arrays\u001b[0m\u001b[0;34m(\u001b[0m\u001b[0mdata\u001b[0m\u001b[0;34m,\u001b[0m \u001b[0mcolumns\u001b[0m\u001b[0;34m,\u001b[0m \u001b[0mdtype\u001b[0m\u001b[0;34m=\u001b[0m\u001b[0mdtype\u001b[0m\u001b[0;34m)\u001b[0m\u001b[0;34m\u001b[0m\u001b[0;34m\u001b[0m\u001b[0m\n\u001b[0m\u001b[1;32m    571\u001b[0m                     \u001b[0mcolumns\u001b[0m \u001b[0;34m=\u001b[0m \u001b[0mensure_index\u001b[0m\u001b[0;34m(\u001b[0m\u001b[0mcolumns\u001b[0m\u001b[0;34m)\u001b[0m\u001b[0;34m\u001b[0m\u001b[0;34m\u001b[0m\u001b[0m\n\u001b[1;32m    572\u001b[0m \u001b[0;34m\u001b[0m\u001b[0m\n",
      "\u001b[0;32m/Library/Frameworks/Python.framework/Versions/3.9/lib/python3.9/site-packages/pandas/core/internals/construction.py\u001b[0m in \u001b[0;36mto_arrays\u001b[0;34m(data, columns, coerce_float, dtype)\u001b[0m\n\u001b[1;32m    526\u001b[0m         \u001b[0;32mreturn\u001b[0m \u001b[0;34m[\u001b[0m\u001b[0;34m]\u001b[0m\u001b[0;34m,\u001b[0m \u001b[0;34m[\u001b[0m\u001b[0;34m]\u001b[0m  \u001b[0;31m# columns if columns is not None else []\u001b[0m\u001b[0;34m\u001b[0m\u001b[0;34m\u001b[0m\u001b[0m\n\u001b[1;32m    527\u001b[0m     \u001b[0;32mif\u001b[0m \u001b[0misinstance\u001b[0m\u001b[0;34m(\u001b[0m\u001b[0mdata\u001b[0m\u001b[0;34m[\u001b[0m\u001b[0;36m0\u001b[0m\u001b[0;34m]\u001b[0m\u001b[0;34m,\u001b[0m \u001b[0;34m(\u001b[0m\u001b[0mlist\u001b[0m\u001b[0;34m,\u001b[0m \u001b[0mtuple\u001b[0m\u001b[0;34m)\u001b[0m\u001b[0;34m)\u001b[0m\u001b[0;34m:\u001b[0m\u001b[0;34m\u001b[0m\u001b[0;34m\u001b[0m\u001b[0m\n\u001b[0;32m--> 528\u001b[0;31m         \u001b[0;32mreturn\u001b[0m \u001b[0m_list_to_arrays\u001b[0m\u001b[0;34m(\u001b[0m\u001b[0mdata\u001b[0m\u001b[0;34m,\u001b[0m \u001b[0mcolumns\u001b[0m\u001b[0;34m,\u001b[0m \u001b[0mcoerce_float\u001b[0m\u001b[0;34m=\u001b[0m\u001b[0mcoerce_float\u001b[0m\u001b[0;34m,\u001b[0m \u001b[0mdtype\u001b[0m\u001b[0;34m=\u001b[0m\u001b[0mdtype\u001b[0m\u001b[0;34m)\u001b[0m\u001b[0;34m\u001b[0m\u001b[0;34m\u001b[0m\u001b[0m\n\u001b[0m\u001b[1;32m    529\u001b[0m     \u001b[0;32melif\u001b[0m \u001b[0misinstance\u001b[0m\u001b[0;34m(\u001b[0m\u001b[0mdata\u001b[0m\u001b[0;34m[\u001b[0m\u001b[0;36m0\u001b[0m\u001b[0;34m]\u001b[0m\u001b[0;34m,\u001b[0m \u001b[0mabc\u001b[0m\u001b[0;34m.\u001b[0m\u001b[0mMapping\u001b[0m\u001b[0;34m)\u001b[0m\u001b[0;34m:\u001b[0m\u001b[0;34m\u001b[0m\u001b[0;34m\u001b[0m\u001b[0m\n\u001b[1;32m    530\u001b[0m         return _list_of_dict_to_arrays(\n",
      "\u001b[0;32m/Library/Frameworks/Python.framework/Versions/3.9/lib/python3.9/site-packages/pandas/core/internals/construction.py\u001b[0m in \u001b[0;36m_list_to_arrays\u001b[0;34m(data, columns, coerce_float, dtype)\u001b[0m\n\u001b[1;32m    563\u001b[0m     \u001b[0;32melse\u001b[0m\u001b[0;34m:\u001b[0m\u001b[0;34m\u001b[0m\u001b[0;34m\u001b[0m\u001b[0m\n\u001b[1;32m    564\u001b[0m         \u001b[0;31m# list of lists\u001b[0m\u001b[0;34m\u001b[0m\u001b[0;34m\u001b[0m\u001b[0;34m\u001b[0m\u001b[0m\n\u001b[0;32m--> 565\u001b[0;31m         \u001b[0mcontent\u001b[0m \u001b[0;34m=\u001b[0m \u001b[0mlist\u001b[0m\u001b[0;34m(\u001b[0m\u001b[0mlib\u001b[0m\u001b[0;34m.\u001b[0m\u001b[0mto_object_array\u001b[0m\u001b[0;34m(\u001b[0m\u001b[0mdata\u001b[0m\u001b[0;34m)\u001b[0m\u001b[0;34m.\u001b[0m\u001b[0mT\u001b[0m\u001b[0;34m)\u001b[0m\u001b[0;34m\u001b[0m\u001b[0;34m\u001b[0m\u001b[0m\n\u001b[0m\u001b[1;32m    566\u001b[0m     \u001b[0;31m# gh-26429 do not raise user-facing AssertionError\u001b[0m\u001b[0;34m\u001b[0m\u001b[0;34m\u001b[0m\u001b[0;34m\u001b[0m\u001b[0m\n\u001b[1;32m    567\u001b[0m     \u001b[0;32mtry\u001b[0m\u001b[0;34m:\u001b[0m\u001b[0;34m\u001b[0m\u001b[0;34m\u001b[0m\u001b[0m\n",
      "\u001b[0;32mpandas/_libs/lib.pyx\u001b[0m in \u001b[0;36mpandas._libs.lib.to_object_array\u001b[0;34m()\u001b[0m\n",
      "\u001b[0;31mTypeError\u001b[0m: object of type 'int' has no len()"
     ]
    }
   ],
   "source": [
    "df = process_json_response(response1)"
   ]
  },
  {
   "cell_type": "code",
   "execution_count": 51,
   "metadata": {
    "tags": []
   },
   "outputs": [
    {
     "output_type": "stream",
     "name": "stdout",
     "text": [
      "<class 'requests.models.Response'>\n"
     ]
    }
   ],
   "source": [
    "print(type(response))"
   ]
  },
  {
   "cell_type": "code",
   "execution_count": 50,
   "metadata": {},
   "outputs": [
    {
     "output_type": "error",
     "ename": "AttributeError",
     "evalue": "'Response' object has no attribute 'items'",
     "traceback": [
      "\u001b[0;31m---------------------------------------------------------------------------\u001b[0m",
      "\u001b[0;31mAttributeError\u001b[0m                            Traceback (most recent call last)",
      "\u001b[0;32m<ipython-input-50-62be73e3b05e>\u001b[0m in \u001b[0;36m<module>\u001b[0;34m\u001b[0m\n\u001b[0;32m----> 1\u001b[0;31m \u001b[0mlist\u001b[0m\u001b[0;34m(\u001b[0m\u001b[0mresponse\u001b[0m\u001b[0;34m.\u001b[0m\u001b[0mitems\u001b[0m\u001b[0;34m(\u001b[0m\u001b[0;34m)\u001b[0m\u001b[0;34m)\u001b[0m\u001b[0;34m[\u001b[0m\u001b[0;36m0\u001b[0m\u001b[0;34m]\u001b[0m\u001b[0;34m[\u001b[0m\u001b[0;36m0\u001b[0m\u001b[0;34m]\u001b[0m\u001b[0;34m\u001b[0m\u001b[0;34m\u001b[0m\u001b[0m\n\u001b[0m",
      "\u001b[0;31mAttributeError\u001b[0m: 'Response' object has no attribute 'items'"
     ]
    }
   ],
   "source": [
    "list(response.items())[0][0]"
   ]
  },
  {
   "cell_type": "code",
   "execution_count": 80,
   "metadata": {
    "tags": []
   },
   "outputs": [],
   "source": [
    "re = json.loads(response.content)"
   ]
  },
  {
   "cell_type": "code",
   "execution_count": 82,
   "metadata": {},
   "outputs": [],
   "source": [
    "df = pd.DataFrame.from_dict(re['data']['results'])"
   ]
  },
  {
   "cell_type": "code",
   "execution_count": 87,
   "metadata": {},
   "outputs": [
    {
     "output_type": "execute_result",
     "data": {
      "text/plain": [
       "                                               photos branding  \\\n",
       "37  [{'title': None, 'description': None, 'tags': ...       {}   \n",
       "38  [{'title': None, 'description': None, 'tags': ...       {}   \n",
       "39  [{'title': None, 'description': None, 'tags': ...       {}   \n",
       "40  [{'title': None, 'description': None, 'tags': ...       {}   \n",
       "41  [{'title': None, 'description': None, 'tags': ...       {}   \n",
       "\n",
       "                                       other_listings  list_price_min  \\\n",
       "37  {'rdc': [{'listing_id': '612930637', 'status':...             900   \n",
       "38  {'rdc': [{'listing_id': '2924659916', 'status'...             825   \n",
       "39  {'rdc': [{'listing_id': '612930825', 'status':...            1620   \n",
       "40  {'rdc': [{'listing_id': '604090897', 'status':...             995   \n",
       "41  {'rdc': [{'listing_id': '585167521', 'status':...             595   \n",
       "\n",
       "                                                 href  \\\n",
       "37  https://www.realtor.com/realestateandhomes-det...   \n",
       "38  https://www.realtor.com/realestateandhomes-det...   \n",
       "39  https://www.realtor.com/realestateandhomes-det...   \n",
       "40  https://www.realtor.com/realestateandhomes-det...   \n",
       "41  https://www.realtor.com/realestateandhomes-det...   \n",
       "\n",
       "                when_indexed  last_sold_price property_id  \\\n",
       "37  2021-04-08T20:32:47.942Z              NaN  3627605647   \n",
       "38  2021-04-08T21:53:26.590Z              NaN  9566186525   \n",
       "39  2021-04-08T20:12:38.758Z              NaN  3330774404   \n",
       "40  2021-04-08T18:37:14.681Z              NaN  9119108217   \n",
       "41  2021-04-08T19:30:26.753Z              NaN  4732496514   \n",
       "\n",
       "                                          advertisers virtual_tours  ...  \\\n",
       "37  [{'office': {'phones': [{'trackable': None, 'n...          None  ...   \n",
       "38  [{'office': {'phones': [{'trackable': None, 'n...          None  ...   \n",
       "39  [{'office': {'phones': [{'trackable': None, 'n...          None  ...   \n",
       "40  [{'office': {'phones': [{'trackable': None, 'n...          None  ...   \n",
       "41  [{'office': {'phones': [{'trackable': None, 'n...          None  ...   \n",
       "\n",
       "   list_price_max                                               tags  \\\n",
       "37           1600  [community_no_fee, central_air, dishwasher, fo...   \n",
       "38            825  [community_no_fee, central_air, forced_air, pe...   \n",
       "39           1900  [community_no_fee, dishwasher, hardwood_floors...   \n",
       "40           1035  [community_no_fee, central_air, community_gym,...   \n",
       "41            880  [community_no_fee, garage_1_or_more, hardwood_...   \n",
       "\n",
       "                                           pet_policy  \\\n",
       "37  {'cats': True, 'dogs': True, 'dogs_large': Non...   \n",
       "38  {'cats': True, 'dogs': True, 'dogs_large': Non...   \n",
       "39  {'cats': True, 'dogs': True, 'dogs_large': Non...   \n",
       "40  {'cats': True, 'dogs': True, 'dogs_large': Non...   \n",
       "41  {'cats': True, 'dogs': True, 'dogs_large': Non...   \n",
       "\n",
       "                                             products suppression_flags  \\\n",
       "37  {'products': ['showcase_community'], 'product_...              None   \n",
       "38  {'products': ['showcase_community'], 'product_...              None   \n",
       "39  {'products': ['showcase_community'], 'product_...              None   \n",
       "40  {'products': ['showcase_community'], 'product_...              None   \n",
       "41  {'products': ['showcase_community'], 'product_...              None   \n",
       "\n",
       "      status                                              flags community  \\\n",
       "37  for_rent  {'is_deal_available': None, 'is_senior_communi...      None   \n",
       "38  for_rent  {'is_deal_available': None, 'is_senior_communi...      None   \n",
       "39  for_rent  {'is_deal_available': None, 'is_senior_communi...      None   \n",
       "40  for_rent  {'is_deal_available': None, 'is_senior_communi...      None   \n",
       "41  for_rent  {'is_deal_available': None, 'is_senior_communi...      None   \n",
       "\n",
       "   matterport                                      primary_photo  \n",
       "37      False  {'href': 'https://ar.rdcpix.com/125944411/299b...  \n",
       "38      False  {'href': 'https://ar.rdcpix.com/b5f449396ef70f...  \n",
       "39      False  {'href': 'https://ar.rdcpix.com/56ec4eac389e01...  \n",
       "40      False  {'href': 'https://ar.rdcpix.com/5d162d179db0d4...  \n",
       "41      False  {'href': 'https://ar.rdcpix.com/7d720200071c59...  \n",
       "\n",
       "[5 rows x 38 columns]"
      ],
      "text/html": "<div>\n<style scoped>\n    .dataframe tbody tr th:only-of-type {\n        vertical-align: middle;\n    }\n\n    .dataframe tbody tr th {\n        vertical-align: top;\n    }\n\n    .dataframe thead th {\n        text-align: right;\n    }\n</style>\n<table border=\"1\" class=\"dataframe\">\n  <thead>\n    <tr style=\"text-align: right;\">\n      <th></th>\n      <th>photos</th>\n      <th>branding</th>\n      <th>other_listings</th>\n      <th>list_price_min</th>\n      <th>href</th>\n      <th>when_indexed</th>\n      <th>last_sold_price</th>\n      <th>property_id</th>\n      <th>advertisers</th>\n      <th>virtual_tours</th>\n      <th>...</th>\n      <th>list_price_max</th>\n      <th>tags</th>\n      <th>pet_policy</th>\n      <th>products</th>\n      <th>suppression_flags</th>\n      <th>status</th>\n      <th>flags</th>\n      <th>community</th>\n      <th>matterport</th>\n      <th>primary_photo</th>\n    </tr>\n  </thead>\n  <tbody>\n    <tr>\n      <th>37</th>\n      <td>[{'title': None, 'description': None, 'tags': ...</td>\n      <td>{}</td>\n      <td>{'rdc': [{'listing_id': '612930637', 'status':...</td>\n      <td>900</td>\n      <td>https://www.realtor.com/realestateandhomes-det...</td>\n      <td>2021-04-08T20:32:47.942Z</td>\n      <td>NaN</td>\n      <td>3627605647</td>\n      <td>[{'office': {'phones': [{'trackable': None, 'n...</td>\n      <td>None</td>\n      <td>...</td>\n      <td>1600</td>\n      <td>[community_no_fee, central_air, dishwasher, fo...</td>\n      <td>{'cats': True, 'dogs': True, 'dogs_large': Non...</td>\n      <td>{'products': ['showcase_community'], 'product_...</td>\n      <td>None</td>\n      <td>for_rent</td>\n      <td>{'is_deal_available': None, 'is_senior_communi...</td>\n      <td>None</td>\n      <td>False</td>\n      <td>{'href': 'https://ar.rdcpix.com/125944411/299b...</td>\n    </tr>\n    <tr>\n      <th>38</th>\n      <td>[{'title': None, 'description': None, 'tags': ...</td>\n      <td>{}</td>\n      <td>{'rdc': [{'listing_id': '2924659916', 'status'...</td>\n      <td>825</td>\n      <td>https://www.realtor.com/realestateandhomes-det...</td>\n      <td>2021-04-08T21:53:26.590Z</td>\n      <td>NaN</td>\n      <td>9566186525</td>\n      <td>[{'office': {'phones': [{'trackable': None, 'n...</td>\n      <td>None</td>\n      <td>...</td>\n      <td>825</td>\n      <td>[community_no_fee, central_air, forced_air, pe...</td>\n      <td>{'cats': True, 'dogs': True, 'dogs_large': Non...</td>\n      <td>{'products': ['showcase_community'], 'product_...</td>\n      <td>None</td>\n      <td>for_rent</td>\n      <td>{'is_deal_available': None, 'is_senior_communi...</td>\n      <td>None</td>\n      <td>False</td>\n      <td>{'href': 'https://ar.rdcpix.com/b5f449396ef70f...</td>\n    </tr>\n    <tr>\n      <th>39</th>\n      <td>[{'title': None, 'description': None, 'tags': ...</td>\n      <td>{}</td>\n      <td>{'rdc': [{'listing_id': '612930825', 'status':...</td>\n      <td>1620</td>\n      <td>https://www.realtor.com/realestateandhomes-det...</td>\n      <td>2021-04-08T20:12:38.758Z</td>\n      <td>NaN</td>\n      <td>3330774404</td>\n      <td>[{'office': {'phones': [{'trackable': None, 'n...</td>\n      <td>None</td>\n      <td>...</td>\n      <td>1900</td>\n      <td>[community_no_fee, dishwasher, hardwood_floors...</td>\n      <td>{'cats': True, 'dogs': True, 'dogs_large': Non...</td>\n      <td>{'products': ['showcase_community'], 'product_...</td>\n      <td>None</td>\n      <td>for_rent</td>\n      <td>{'is_deal_available': None, 'is_senior_communi...</td>\n      <td>None</td>\n      <td>False</td>\n      <td>{'href': 'https://ar.rdcpix.com/56ec4eac389e01...</td>\n    </tr>\n    <tr>\n      <th>40</th>\n      <td>[{'title': None, 'description': None, 'tags': ...</td>\n      <td>{}</td>\n      <td>{'rdc': [{'listing_id': '604090897', 'status':...</td>\n      <td>995</td>\n      <td>https://www.realtor.com/realestateandhomes-det...</td>\n      <td>2021-04-08T18:37:14.681Z</td>\n      <td>NaN</td>\n      <td>9119108217</td>\n      <td>[{'office': {'phones': [{'trackable': None, 'n...</td>\n      <td>None</td>\n      <td>...</td>\n      <td>1035</td>\n      <td>[community_no_fee, central_air, community_gym,...</td>\n      <td>{'cats': True, 'dogs': True, 'dogs_large': Non...</td>\n      <td>{'products': ['showcase_community'], 'product_...</td>\n      <td>None</td>\n      <td>for_rent</td>\n      <td>{'is_deal_available': None, 'is_senior_communi...</td>\n      <td>None</td>\n      <td>False</td>\n      <td>{'href': 'https://ar.rdcpix.com/5d162d179db0d4...</td>\n    </tr>\n    <tr>\n      <th>41</th>\n      <td>[{'title': None, 'description': None, 'tags': ...</td>\n      <td>{}</td>\n      <td>{'rdc': [{'listing_id': '585167521', 'status':...</td>\n      <td>595</td>\n      <td>https://www.realtor.com/realestateandhomes-det...</td>\n      <td>2021-04-08T19:30:26.753Z</td>\n      <td>NaN</td>\n      <td>4732496514</td>\n      <td>[{'office': {'phones': [{'trackable': None, 'n...</td>\n      <td>None</td>\n      <td>...</td>\n      <td>880</td>\n      <td>[community_no_fee, garage_1_or_more, hardwood_...</td>\n      <td>{'cats': True, 'dogs': True, 'dogs_large': Non...</td>\n      <td>{'products': ['showcase_community'], 'product_...</td>\n      <td>None</td>\n      <td>for_rent</td>\n      <td>{'is_deal_available': None, 'is_senior_communi...</td>\n      <td>None</td>\n      <td>False</td>\n      <td>{'href': 'https://ar.rdcpix.com/7d720200071c59...</td>\n    </tr>\n  </tbody>\n</table>\n<p>5 rows × 38 columns</p>\n</div>"
     },
     "metadata": {},
     "execution_count": 87
    }
   ],
   "source": [
    "df.tail()"
   ]
  },
  {
   "cell_type": "code",
   "execution_count": 105,
   "metadata": {},
   "outputs": [
    {
     "output_type": "execute_result",
     "data": {
      "text/plain": [
       "1"
      ]
     },
     "metadata": {},
     "execution_count": 105
    }
   ],
   "source": [
    "1"
   ]
  },
  {
   "cell_type": "code",
   "execution_count": 89,
   "metadata": {},
   "outputs": [],
   "source": [
    "import requests\n",
    "\n",
    "url = \"https://realtor-com-real-estate.p.rapidapi.com/for-sale\"\n",
    "\n",
    "querystring = {\"city\":\"Detroit\",\"state_code\":\"MI\",\"offset\":\"0\",\"limit\":\"42\"}\n",
    "\n",
    "headers = {\n",
    "    'x-rapidapi-key': \"af2b0d8315mshd2cfb886121c4b2p149f15jsn85834aeacb17\",\n",
    "    'x-rapidapi-host': \"realtor-com-real-estate.p.rapidapi.com\"\n",
    "    }\n",
    "\n",
    "response_forsale = requests.request(\"GET\", url, headers=headers, params=querystring)"
   ]
  },
  {
   "cell_type": "code",
   "execution_count": 91,
   "metadata": {},
   "outputs": [],
   "source": [
    "forsale = json.loads(response_forsale.content)"
   ]
  },
  {
   "cell_type": "code",
   "execution_count": 101,
   "metadata": {},
   "outputs": [],
   "source": [
    "df1 = pd.DataFrame.from_dict(forsale['data']['results'])"
   ]
  },
  {
   "cell_type": "code",
   "execution_count": 102,
   "metadata": {},
   "outputs": [
    {
     "output_type": "execute_result",
     "data": {
      "text/plain": [
       "                                       primary_photo      last_update_date  \\\n",
       "0  {'href': 'https://ap.rdcpix.com/66dd314365952f...  2021-04-08T15:23:05Z   \n",
       "1  {'href': 'https://ap.rdcpix.com/264a6ce3429bf1...  2021-04-09T00:02:34Z   \n",
       "2  {'href': 'https://ap.rdcpix.com/7abb85e84541a0...  2021-04-08T15:08:07Z   \n",
       "3  {'href': 'https://ap.rdcpix.com/003410d4785775...  2021-04-09T00:48:55Z   \n",
       "4  {'href': 'https://ap.rdcpix.com/dbef7752f374fd...  2021-04-07T19:28:30Z   \n",
       "\n",
       "                                              source  \\\n",
       "0  {'plan_id': None, 'agents': [{'office_name': N...   \n",
       "1  {'plan_id': None, 'agents': [{'office_name': '...   \n",
       "2  {'plan_id': None, 'agents': [{'office_name': N...   \n",
       "3  {'plan_id': None, 'agents': [{'office_name': N...   \n",
       "4  {'plan_id': None, 'agents': [{'office_name': '...   \n",
       "\n",
       "                                                tags  \\\n",
       "0  [community_outdoor_space, dining_room, forced_...   \n",
       "1  [central_air, dining_room, forced_air, basemen...   \n",
       "2  [dining_room, fireplace, forced_air, basement,...   \n",
       "3  [central_air, dining_room, forced_air, basemen...   \n",
       "4  [community_outdoor_space, forced_air, hardwood...   \n",
       "\n",
       "                                           permalink    status  \\\n",
       "0  19935-Monte-Vista-St_Detroit_MI_48221_M46269-1...  for_sale   \n",
       "1  18640-Russell-St_Highland-Park_MI_48203_M49020...  for_sale   \n",
       "2     3302-Lawrence-St_Detroit_MI_48206_M48895-13155  for_sale   \n",
       "3        18517-Burt-Rd_Detroit_MI_48219_M39010-07251  for_sale   \n",
       "4       8810-Olivet-St_Detroit_MI_48209_M32240-58290  for_sale   \n",
       "\n",
       "              list_date open_houses  \\\n",
       "0  2021-04-08T19:26:10Z        None   \n",
       "1  2021-04-08T15:40:20Z        None   \n",
       "2  2021-04-08T16:55:31Z        None   \n",
       "3  2021-04-09T04:52:54Z        None   \n",
       "4  2021-04-07T23:32:00Z        None   \n",
       "\n",
       "                                         description  \\\n",
       "0  {'baths_3qtr': None, 'year_built': 1944, 'sold...   \n",
       "1  {'baths_3qtr': None, 'year_built': 1925, 'sold...   \n",
       "2  {'baths_3qtr': None, 'year_built': 1924, 'sold...   \n",
       "3  {'baths_3qtr': None, 'year_built': 1957, 'sold...   \n",
       "4  {'baths_3qtr': None, 'year_built': 1913, 'sold...   \n",
       "\n",
       "                                            branding  ...  \\\n",
       "0  [{'name': 'RE/MAX Leading Edge', 'photo': None...  ...   \n",
       "1  [{'name': 'RE/MAX LEADING EDGE', 'photo': None...  ...   \n",
       "2  [{'name': 'KW Metro', 'photo': None, 'type': '...  ...   \n",
       "3  [{'name': 'Keller Williams Domain Birmingham',...  ...   \n",
       "4  [{'name': 'KW Advantage', 'photo': None, 'type...  ...   \n",
       "\n",
       "                                              photos  \\\n",
       "0  [{'tags': [{'label': 'house_view', 'probabilit...   \n",
       "1  [{'tags': [{'label': 'house_view', 'probabilit...   \n",
       "2  [{'tags': [{'label': 'house_view', 'probabilit...   \n",
       "3  [{'tags': [{'label': 'porch_yard', 'probabilit...   \n",
       "4  [{'tags': [{'label': 'porch', 'probability': 0...   \n",
       "\n",
       "                                               flags community  \\\n",
       "0  {'is_new_construction': None, 'is_for_rent': N...      None   \n",
       "1  {'is_new_construction': None, 'is_for_rent': N...      None   \n",
       "2  {'is_new_construction': None, 'is_for_rent': N...      None   \n",
       "3  {'is_new_construction': None, 'is_for_rent': N...      None   \n",
       "4  {'is_new_construction': None, 'is_for_rent': N...      None   \n",
       "\n",
       "                          products virtual_tours  \\\n",
       "0   {'brand_name': 'basic_opt_in'}          None   \n",
       "1     {'brand_name': 'essentials'}          None   \n",
       "2     {'brand_name': 'essentials'}          None   \n",
       "3  {'brand_name': 'advantage_pro'}          None   \n",
       "4     {'brand_name': 'essentials'}          None   \n",
       "\n",
       "                                      other_listings  listing_id  \\\n",
       "0  {'rdc': [{'listing_id': '2927918203', 'listing...  2927918203   \n",
       "1  {'rdc': [{'listing_id': '2927904368', 'listing...  2927904368   \n",
       "2  {'rdc': [{'listing_id': '2927908865', 'listing...  2927908865   \n",
       "3  {'rdc': [{'listing_id': '2927940847', 'listing...  2927940847   \n",
       "4  {'rdc': [{'listing_id': '2927880866', 'listing...  2927880866   \n",
       "\n",
       "  price_reduced_amount                                           location  \\\n",
       "0                 None  {'address': {'postal_code': '48221', 'state': ...   \n",
       "1                 None  {'address': {'postal_code': '48203', 'state': ...   \n",
       "2                 None  {'address': {'postal_code': '48206', 'state': ...   \n",
       "3                 None  {'address': {'postal_code': '48219', 'state': ...   \n",
       "4                 None  {'address': {'postal_code': '48209', 'state': ...   \n",
       "\n",
       "  matterport  \n",
       "0      False  \n",
       "1      False  \n",
       "2      False  \n",
       "3      False  \n",
       "4      False  \n",
       "\n",
       "[5 rows x 23 columns]"
      ],
      "text/html": "<div>\n<style scoped>\n    .dataframe tbody tr th:only-of-type {\n        vertical-align: middle;\n    }\n\n    .dataframe tbody tr th {\n        vertical-align: top;\n    }\n\n    .dataframe thead th {\n        text-align: right;\n    }\n</style>\n<table border=\"1\" class=\"dataframe\">\n  <thead>\n    <tr style=\"text-align: right;\">\n      <th></th>\n      <th>primary_photo</th>\n      <th>last_update_date</th>\n      <th>source</th>\n      <th>tags</th>\n      <th>permalink</th>\n      <th>status</th>\n      <th>list_date</th>\n      <th>open_houses</th>\n      <th>description</th>\n      <th>branding</th>\n      <th>...</th>\n      <th>photos</th>\n      <th>flags</th>\n      <th>community</th>\n      <th>products</th>\n      <th>virtual_tours</th>\n      <th>other_listings</th>\n      <th>listing_id</th>\n      <th>price_reduced_amount</th>\n      <th>location</th>\n      <th>matterport</th>\n    </tr>\n  </thead>\n  <tbody>\n    <tr>\n      <th>0</th>\n      <td>{'href': 'https://ap.rdcpix.com/66dd314365952f...</td>\n      <td>2021-04-08T15:23:05Z</td>\n      <td>{'plan_id': None, 'agents': [{'office_name': N...</td>\n      <td>[community_outdoor_space, dining_room, forced_...</td>\n      <td>19935-Monte-Vista-St_Detroit_MI_48221_M46269-1...</td>\n      <td>for_sale</td>\n      <td>2021-04-08T19:26:10Z</td>\n      <td>None</td>\n      <td>{'baths_3qtr': None, 'year_built': 1944, 'sold...</td>\n      <td>[{'name': 'RE/MAX Leading Edge', 'photo': None...</td>\n      <td>...</td>\n      <td>[{'tags': [{'label': 'house_view', 'probabilit...</td>\n      <td>{'is_new_construction': None, 'is_for_rent': N...</td>\n      <td>None</td>\n      <td>{'brand_name': 'basic_opt_in'}</td>\n      <td>None</td>\n      <td>{'rdc': [{'listing_id': '2927918203', 'listing...</td>\n      <td>2927918203</td>\n      <td>None</td>\n      <td>{'address': {'postal_code': '48221', 'state': ...</td>\n      <td>False</td>\n    </tr>\n    <tr>\n      <th>1</th>\n      <td>{'href': 'https://ap.rdcpix.com/264a6ce3429bf1...</td>\n      <td>2021-04-09T00:02:34Z</td>\n      <td>{'plan_id': None, 'agents': [{'office_name': '...</td>\n      <td>[central_air, dining_room, forced_air, basemen...</td>\n      <td>18640-Russell-St_Highland-Park_MI_48203_M49020...</td>\n      <td>for_sale</td>\n      <td>2021-04-08T15:40:20Z</td>\n      <td>None</td>\n      <td>{'baths_3qtr': None, 'year_built': 1925, 'sold...</td>\n      <td>[{'name': 'RE/MAX LEADING EDGE', 'photo': None...</td>\n      <td>...</td>\n      <td>[{'tags': [{'label': 'house_view', 'probabilit...</td>\n      <td>{'is_new_construction': None, 'is_for_rent': N...</td>\n      <td>None</td>\n      <td>{'brand_name': 'essentials'}</td>\n      <td>None</td>\n      <td>{'rdc': [{'listing_id': '2927904368', 'listing...</td>\n      <td>2927904368</td>\n      <td>None</td>\n      <td>{'address': {'postal_code': '48203', 'state': ...</td>\n      <td>False</td>\n    </tr>\n    <tr>\n      <th>2</th>\n      <td>{'href': 'https://ap.rdcpix.com/7abb85e84541a0...</td>\n      <td>2021-04-08T15:08:07Z</td>\n      <td>{'plan_id': None, 'agents': [{'office_name': N...</td>\n      <td>[dining_room, fireplace, forced_air, basement,...</td>\n      <td>3302-Lawrence-St_Detroit_MI_48206_M48895-13155</td>\n      <td>for_sale</td>\n      <td>2021-04-08T16:55:31Z</td>\n      <td>None</td>\n      <td>{'baths_3qtr': None, 'year_built': 1924, 'sold...</td>\n      <td>[{'name': 'KW Metro', 'photo': None, 'type': '...</td>\n      <td>...</td>\n      <td>[{'tags': [{'label': 'house_view', 'probabilit...</td>\n      <td>{'is_new_construction': None, 'is_for_rent': N...</td>\n      <td>None</td>\n      <td>{'brand_name': 'essentials'}</td>\n      <td>None</td>\n      <td>{'rdc': [{'listing_id': '2927908865', 'listing...</td>\n      <td>2927908865</td>\n      <td>None</td>\n      <td>{'address': {'postal_code': '48206', 'state': ...</td>\n      <td>False</td>\n    </tr>\n    <tr>\n      <th>3</th>\n      <td>{'href': 'https://ap.rdcpix.com/003410d4785775...</td>\n      <td>2021-04-09T00:48:55Z</td>\n      <td>{'plan_id': None, 'agents': [{'office_name': N...</td>\n      <td>[central_air, dining_room, forced_air, basemen...</td>\n      <td>18517-Burt-Rd_Detroit_MI_48219_M39010-07251</td>\n      <td>for_sale</td>\n      <td>2021-04-09T04:52:54Z</td>\n      <td>None</td>\n      <td>{'baths_3qtr': None, 'year_built': 1957, 'sold...</td>\n      <td>[{'name': 'Keller Williams Domain Birmingham',...</td>\n      <td>...</td>\n      <td>[{'tags': [{'label': 'porch_yard', 'probabilit...</td>\n      <td>{'is_new_construction': None, 'is_for_rent': N...</td>\n      <td>None</td>\n      <td>{'brand_name': 'advantage_pro'}</td>\n      <td>None</td>\n      <td>{'rdc': [{'listing_id': '2927940847', 'listing...</td>\n      <td>2927940847</td>\n      <td>None</td>\n      <td>{'address': {'postal_code': '48219', 'state': ...</td>\n      <td>False</td>\n    </tr>\n    <tr>\n      <th>4</th>\n      <td>{'href': 'https://ap.rdcpix.com/dbef7752f374fd...</td>\n      <td>2021-04-07T19:28:30Z</td>\n      <td>{'plan_id': None, 'agents': [{'office_name': '...</td>\n      <td>[community_outdoor_space, forced_air, hardwood...</td>\n      <td>8810-Olivet-St_Detroit_MI_48209_M32240-58290</td>\n      <td>for_sale</td>\n      <td>2021-04-07T23:32:00Z</td>\n      <td>None</td>\n      <td>{'baths_3qtr': None, 'year_built': 1913, 'sold...</td>\n      <td>[{'name': 'KW Advantage', 'photo': None, 'type...</td>\n      <td>...</td>\n      <td>[{'tags': [{'label': 'porch', 'probability': 0...</td>\n      <td>{'is_new_construction': None, 'is_for_rent': N...</td>\n      <td>None</td>\n      <td>{'brand_name': 'essentials'}</td>\n      <td>None</td>\n      <td>{'rdc': [{'listing_id': '2927880866', 'listing...</td>\n      <td>2927880866</td>\n      <td>None</td>\n      <td>{'address': {'postal_code': '48209', 'state': ...</td>\n      <td>False</td>\n    </tr>\n  </tbody>\n</table>\n<p>5 rows × 23 columns</p>\n</div>"
     },
     "metadata": {},
     "execution_count": 102
    }
   ],
   "source": [
    "df1.head()"
   ]
  },
  {
   "cell_type": "code",
   "execution_count": 103,
   "metadata": {},
   "outputs": [
    {
     "output_type": "execute_result",
     "data": {
      "text/plain": [
       "Index(['primary_photo', 'last_update_date', 'source', 'tags', 'permalink',\n",
       "       'status', 'list_date', 'open_houses', 'description', 'branding',\n",
       "       'list_price', 'lead_attributes', 'property_id', 'photos', 'flags',\n",
       "       'community', 'products', 'virtual_tours', 'other_listings',\n",
       "       'listing_id', 'price_reduced_amount', 'location', 'matterport'],\n",
       "      dtype='object')"
      ]
     },
     "metadata": {},
     "execution_count": 103
    }
   ],
   "source": [
    "df1.columns"
   ]
  },
  {
   "cell_type": "code",
   "execution_count": 95,
   "metadata": {},
   "outputs": [
    {
     "output_type": "execute_result",
     "data": {
      "text/plain": [
       "Index(['photos', 'branding', 'other_listings', 'list_price_min', 'href',\n",
       "       'when_indexed', 'last_sold_price', 'property_id', 'advertisers',\n",
       "       'virtual_tours', 'seller_promotion', 'listing_id',\n",
       "       'price_reduced_amount', 'location', 'last_update_date', 'source',\n",
       "       'permalink', 'list_date', 'open_houses', 'last_sold_date',\n",
       "       'last_price_change_date', 'description', 'last_price_change_amount',\n",
       "       'price_reduced_date', 'property_history', 'photo_count', 'list_price',\n",
       "       'lead_attributes', 'list_price_max', 'tags', 'pet_policy', 'products',\n",
       "       'suppression_flags', 'status', 'flags', 'community', 'matterport',\n",
       "       'primary_photo'],\n",
       "      dtype='object')"
      ]
     },
     "metadata": {},
     "execution_count": 95
    }
   ],
   "source": [
    "df.columns"
   ]
  },
  {
   "cell_type": "code",
   "execution_count": 97,
   "metadata": {},
   "outputs": [],
   "source": [
    "df.to_csv('for_rent1.csv')"
   ]
  },
  {
   "cell_type": "code",
   "execution_count": 104,
   "metadata": {},
   "outputs": [],
   "source": [
    "df1.to_csv('for_sale2.csv')"
   ]
  },
  {
   "cell_type": "code",
   "execution_count": 107,
   "metadata": {},
   "outputs": [
    {
     "output_type": "execute_result",
     "data": {
      "text/plain": [
       "primary_photo           object\n",
       "last_update_date        object\n",
       "source                  object\n",
       "tags                    object\n",
       "permalink               object\n",
       "status                  object\n",
       "list_date               object\n",
       "open_houses             object\n",
       "description             object\n",
       "branding                object\n",
       "list_price               int64\n",
       "lead_attributes         object\n",
       "property_id             object\n",
       "photos                  object\n",
       "flags                   object\n",
       "community               object\n",
       "products                object\n",
       "virtual_tours           object\n",
       "other_listings          object\n",
       "listing_id              object\n",
       "price_reduced_amount    object\n",
       "location                object\n",
       "matterport                bool\n",
       "dtype: object"
      ]
     },
     "metadata": {},
     "execution_count": 107
    }
   ],
   "source": [
    "df1.dtypes"
   ]
  },
  {
   "cell_type": "code",
   "execution_count": 18,
   "metadata": {},
   "outputs": [],
   "source": [
    "a = \"yyyyyygfff\"\n",
    "for i in a :\n",
    "    if 'p' in a:\n",
    "        print(\"yes\")"
   ]
  },
  {
   "cell_type": "code",
   "execution_count": 4,
   "metadata": {},
   "outputs": [
    {
     "output_type": "error",
     "ename": "NameError",
     "evalue": "name 'er' is not defined",
     "traceback": [
      "\u001b[0;31m---------------------------------------------------------------------------\u001b[0m",
      "\u001b[0;31mNameError\u001b[0m                                 Traceback (most recent call last)",
      "\u001b[0;32m<ipython-input-4-435080f8afad>\u001b[0m in \u001b[0;36m<module>\u001b[0;34m\u001b[0m\n\u001b[0;32m----> 1\u001b[0;31m \u001b[0mprint\u001b[0m\u001b[0;34m(\u001b[0m\u001b[0mlen\u001b[0m\u001b[0;34m(\u001b[0m\u001b[0mer\u001b[0m\u001b[0;34m)\u001b[0m\u001b[0;34m)\u001b[0m\u001b[0;34m\u001b[0m\u001b[0;34m\u001b[0m\u001b[0m\n\u001b[0m",
      "\u001b[0;31mNameError\u001b[0m: name 'er' is not defined"
     ]
    }
   ],
   "source": [
    "\n",
    "\n",
    "print(len(er))"
   ]
  },
  {
   "cell_type": "code",
   "execution_count": 5,
   "metadata": {},
   "outputs": [],
   "source": [
    "d = {'city': 'Foumbot', 'state_code': 'west', 'location': '118', 'sort': 'frehsnest', 'price_min': '', 'price_max': '', 'beds_min': '', 'beds_max': '', 'baths_min': '', 'baths_max': '', 'property_type': '', 'property_type_nyc_only': '', 'new_construction': '', 'hide_pending_contingent': '', 'has_virtual_tours': '', 'has_3d_tours': '', 'hide_foreclosure': '', 'price_reduced': '', 'open_house': '', 'keywords': '', 'no_hoa_fee': '', 'hoa_max': '', 'expand_search_radius': '', 'home_size_min': '', 'lot_size_min': '', 'lot_size_max': '', 'stories': '', 'garage': '', 'heating_cooling': '', 'inside_rooms': '', 'outside_features': '', 'lot_views': '', 'community_ammenities': ''}"
   ]
  },
  {
   "cell_type": "code",
   "execution_count": 8,
   "metadata": {},
   "outputs": [
    {
     "output_type": "stream",
     "name": "stdout",
     "text": [
      "{\"data\":null,\"status\":500,\"message\":\"Error Unknown Format Response\"}\n"
     ]
    }
   ],
   "source": [
    "url = \"https://realtor-com-real-estate.p.rapidapi.com/for-sale\"\n",
    "\n",
    "querystring = {\"city\":\"Detroit\",\"state_code\":\"MI\",\"limit\":\"42\",\"offset\":\"0\"}\n",
    "\n",
    "headers = {\n",
    "    'x-rapidapi-key': \"c4c09e8045mshabdf40afcbd7523p1999a7jsn974fdc9c0809\",\n",
    "    'x-rapidapi-host': \"realtor-com-real-estate.p.rapidapi.com\"\n",
    "    }\n",
    "\n",
    "response = requests.request(\"GET\", url, headers=headers, params=querystring)\n",
    "\n",
    "print(response.text)"
   ]
  },
  {
   "cell_type": "code",
   "execution_count": 1,
   "metadata": {},
   "outputs": [],
   "source": [
    "from enum import Enum\n",
    "\n",
    "class TimeInterval(Enum):\n",
    "    one_min = '1 min'\n",
    "    every_day = '7 days'\n",
    "    week_ends = '2 days'\n",
    "\n"
   ]
  },
  {
   "cell_type": "code",
   "execution_count": 17,
   "metadata": {},
   "outputs": [
    {
     "output_type": "execute_result",
     "data": {
      "text/plain": [
       "True"
      ]
     },
     "metadata": {},
     "execution_count": 17
    }
   ],
   "source": [
    "one = TimeInterval('1 min')\n",
    "one\n",
    "comp = '1 min'\n",
    "TimeInterval(comp) is TimeInterval.one_min\n"
   ]
  },
  {
   "cell_type": "code",
   "execution_count": 21,
   "metadata": {},
   "outputs": [
    {
     "output_type": "execute_result",
     "data": {
      "text/plain": [
       "['copy', 'get', 'items', 'keys', 'values']"
      ]
     },
     "metadata": {},
     "execution_count": 21
    }
   ],
   "source": []
  },
  {
   "cell_type": "code",
   "execution_count": 26,
   "metadata": {},
   "outputs": [],
   "source": [
    "def common (s1, s2):\n",
    "    str1 = set(s1)\n",
    "    str2 = set(s2)\n",
    "\n",
    "    result = str1 & str2\n",
    "    return result"
   ]
  },
  {
   "cell_type": "code",
   "execution_count": 27,
   "metadata": {},
   "outputs": [
    {
     "output_type": "execute_result",
     "data": {
      "text/plain": [
       "{'e', 'r'}"
      ]
     },
     "metadata": {},
     "execution_count": 27
    }
   ],
   "source": [
    "common('freeze', \"eric\")"
   ]
  },
  {
   "cell_type": "code",
   "execution_count": 28,
   "metadata": {},
   "outputs": [],
   "source": [
    "def freq_words(s1):\n",
    "    str1 = s1.split()\n",
    "\n",
    "    d = {}\n",
    "    for i in str1:\n",
    "        if i not in d.keys():\n",
    "            d[i] = 0\n",
    "        d[i]+=1\n",
    "    return d"
   ]
  },
  {
   "cell_type": "code",
   "execution_count": 30,
   "metadata": {},
   "outputs": [
    {
     "output_type": "execute_result",
     "data": {
      "text/plain": [
       "{'Count': 1,\n",
       " 'the': 2,\n",
       " 'frequency': 1,\n",
       " 'of': 1,\n",
       " 'words': 1,\n",
       " 'appearing': 1,\n",
       " 'in': 1,\n",
       " 'a': 1,\n",
       " 'string': 1,\n",
       " 'Using': 1,\n",
       " 'Python': 1}"
      ]
     },
     "metadata": {},
     "execution_count": 30
    }
   ],
   "source": [
    "freq_words(\"Count the the frequency of words appearing in a string Using Python\")"
   ]
  },
  {
   "cell_type": "code",
   "execution_count": 33,
   "metadata": {},
   "outputs": [],
   "source": [
    "def list_to_dict(l1, l2):\n",
    "    x = dict(zip(l1,l2))\n",
    "    print(x)\n"
   ]
  },
  {
   "cell_type": "code",
   "execution_count": 34,
   "metadata": {},
   "outputs": [
    {
     "output_type": "stream",
     "name": "stdout",
     "text": [
      "{1: 'one', 2: 'two', 3: 'three'}\n"
     ]
    }
   ],
   "source": [
    "list_to_dict([1,2,3],[\"one\", \"two\", \"three\"])"
   ]
  },
  {
   "cell_type": "code",
   "execution_count": 35,
   "metadata": {},
   "outputs": [],
   "source": [
    "def dict_to_turple(di):\n",
    "    for i in di.items():\n",
    "        print(i)"
   ]
  },
  {
   "cell_type": "code",
   "execution_count": 36,
   "metadata": {},
   "outputs": [
    {
     "output_type": "stream",
     "name": "stdout",
     "text": [
      "(1, 'one')\n(2, 'two')\n(3, 'three')\n"
     ]
    }
   ],
   "source": [
    "dict_to_turple({1: 'one', 2: 'two', 3: 'three'})"
   ]
  },
  {
   "cell_type": "code",
   "execution_count": 1,
   "metadata": {},
   "outputs": [
    {
     "output_type": "stream",
     "name": "stdout",
     "text": [
      "3\n"
     ]
    }
   ],
   "source": [
    "def missing_sum(a):\n",
    "    n = a[-1]\n",
    "    sum1 = n*(n+1)//2\n",
    "    sum_a = sum(a)\n",
    "    print(sum1 - sum_a)\n",
    "missing_sum([1,2,4,5,6,7])"
   ]
  },
  {
   "cell_type": "code",
   "execution_count": 4,
   "metadata": {},
   "outputs": [
    {
     "output_type": "stream",
     "name": "stdout",
     "text": [
      "3\n"
     ]
    }
   ],
   "source": [
    "def missing_xOR(a):\n",
    "    start = a[0]\n",
    "    x = len(a)\n",
    "    for index in range(1,x):\n",
    "        start= start ^ a[index]\n",
    "    start_1 = 0\n",
    "    for index in range(1, x+2):\n",
    "        start_1 = start_1^ index\n",
    "    x_or = start^start_1\n",
    "    print(x_or)\n",
    "\n",
    "missing_xOR([1,2,4,5,6,7])"
   ]
  },
  {
   "cell_type": "code",
   "execution_count": 6,
   "metadata": {},
   "outputs": [
    {
     "output_type": "stream",
     "name": "stdout",
     "text": [
      "Values are 0 and 4\nValues are 1 and 3\nValues are 2 and 2\n"
     ]
    }
   ],
   "source": [
    "def two_sum(arr, sum_):\n",
    "    arr.sort()\n",
    "    left = 0\n",
    "    right = len(arr) - 1\n",
    "    while (left<= right):\n",
    "        if (arr[left] + arr[right] > sum_):\n",
    "            right = right - 1\n",
    "        if (arr[left] + arr[right] < sum_):\n",
    "            left = left + 1\n",
    "        if (arr[left] + arr[right] == sum_):\n",
    "            print (f\"Values are {arr[left]} and {arr[right]}\")\n",
    "            left = left + 1\n",
    "            right = right -1\n",
    "\n",
    "arr = [1,2,3,4,67,2,4,0]\n",
    "sum_ = 4\n",
    "two_sum(arr, sum_)\n",
    "\n"
   ]
  },
  {
   "cell_type": "code",
   "execution_count": 16,
   "metadata": {},
   "outputs": [],
   "source": [
    "def longestCommonPrefix(strs):\n",
    "        \n",
    "        if (len(strs) >= 200 or len(strs) <= 0):\n",
    "            return \"\"\n",
    "        \n",
    "        for i in strs:\n",
    "            \n",
    "            if (len(i) >= 200 or len(i) <= 0):\n",
    "                return \"\"\n",
    "            \n",
    "            if not i.islower():\n",
    "                return \"\"\n",
    "        prefix = strs[0][0]\n",
    "        print(prefix)\n",
    "        count = 0\n",
    "        for s in strs:\n",
    "            if s[0] == prefix:\n",
    "                count+=1\n",
    "        print(count)\n",
    "        if count==len(strs):\n",
    "            return prefix\n",
    "        \n",
    "        else:\n",
    "            return \"\""
   ]
  },
  {
   "cell_type": "code",
   "execution_count": 17,
   "metadata": {},
   "outputs": [
    {
     "output_type": "stream",
     "name": "stdout",
     "text": [
      "f\n3\n"
     ]
    },
    {
     "output_type": "execute_result",
     "data": {
      "text/plain": [
       "'f'"
      ]
     },
     "metadata": {},
     "execution_count": 17
    }
   ],
   "source": [
    "longestCommonPrefix([\"flower\",\"flow\",\"flight\"])"
   ]
  },
  {
   "cell_type": "code",
   "execution_count": 22,
   "metadata": {},
   "outputs": [
    {
     "output_type": "execute_result",
     "data": {
      "text/plain": [
       "{'a'}"
      ]
     },
     "metadata": {},
     "execution_count": 22
    }
   ],
   "source": [
    "set({\"a\", \"a\"})"
   ]
  },
  {
   "cell_type": "code",
   "execution_count": 21,
   "metadata": {},
   "outputs": [
    {
     "output_type": "execute_result",
     "data": {
      "text/plain": [
       "['a', 'c', 'e', 'h', 'i', 'r', 's', 's', 'u']"
      ]
     },
     "metadata": {},
     "execution_count": 21
    }
   ],
   "source": [
    "sorted(\"ericushsa\")"
   ]
  },
  {
   "cell_type": "code",
   "execution_count": 24,
   "metadata": {},
   "outputs": [],
   "source": [
    "parens = {'(': ')', '[': ']', '{': '}'}\n",
    "strs = \"}\"\n",
    "for c in strs:\n",
    "    if c in parens:\n",
    "        print(c)"
   ]
  },
  {
   "cell_type": "code",
   "execution_count": 25,
   "metadata": {},
   "outputs": [
    {
     "output_type": "stream",
     "name": "stdout",
     "text": [
      "Collecting GoogleNews\n",
      "  Downloading GoogleNews-1.5.8-py3-none-any.whl (7.7 kB)\n",
      "Requirement already satisfied: python-dateutil in /Library/Frameworks/Python.framework/Versions/3.9/lib/python3.9/site-packages (from GoogleNews) (2.8.1)\n",
      "Collecting dateparser\n",
      "  Downloading dateparser-1.0.0-py2.py3-none-any.whl (279 kB)\n",
      "\u001b[K     |████████████████████████████████| 279 kB 126 kB/s \n",
      "\u001b[?25hCollecting beautifulsoup4\n",
      "  Downloading beautifulsoup4-4.9.3-py3-none-any.whl (115 kB)\n",
      "\u001b[K     |████████████████████████████████| 115 kB 277 kB/s \n",
      "\u001b[?25hCollecting soupsieve>1.2\n",
      "  Downloading soupsieve-2.2.1-py3-none-any.whl (33 kB)\n",
      "Collecting regex!=2019.02.19\n",
      "  Downloading regex-2021.4.4-cp39-cp39-macosx_10_9_x86_64.whl (284 kB)\n",
      "\u001b[K     |████████████████████████████████| 284 kB 21 kB/s \n",
      "\u001b[?25hCollecting tzlocal\n",
      "  Downloading tzlocal-2.1-py2.py3-none-any.whl (16 kB)\n",
      "Requirement already satisfied: pytz in /Library/Frameworks/Python.framework/Versions/3.9/lib/python3.9/site-packages (from dateparser->GoogleNews) (2021.1)\n",
      "Requirement already satisfied: six>=1.5 in /Library/Frameworks/Python.framework/Versions/3.9/lib/python3.9/site-packages (from python-dateutil->GoogleNews) (1.15.0)\n",
      "Installing collected packages: tzlocal, soupsieve, regex, dateparser, beautifulsoup4, GoogleNews\n",
      "Successfully installed GoogleNews-1.5.8 beautifulsoup4-4.9.3 dateparser-1.0.0 regex-2021.4.4 soupsieve-2.2.1 tzlocal-2.1\n",
      "\u001b[33mWARNING: You are using pip version 21.0.1; however, version 21.1.1 is available.\n",
      "You should consider upgrading via the '/Library/Frameworks/Python.framework/Versions/3.9/bin/python3 -m pip install --upgrade pip' command.\u001b[0m\n"
     ]
    }
   ],
   "source": [
    "!pip install GoogleNews"
   ]
  },
  {
   "cell_type": "code",
   "execution_count": 26,
   "metadata": {},
   "outputs": [],
   "source": [
    "from GoogleNews import GoogleNews\n",
    "googlenews = GoogleNews(lang = 'en')"
   ]
  },
  {
   "cell_type": "code",
   "execution_count": 30,
   "metadata": {},
   "outputs": [],
   "source": [
    "googlenews.set_lang('en')\n",
    "googlenews.set_period('7d')\n",
    "googlenews.set_time_range('02/01/2020','02/28/2020')\n",
    "googlenews.set_encode('utf-8')"
   ]
  },
  {
   "cell_type": "code",
   "execution_count": 37,
   "metadata": {},
   "outputs": [],
   "source": [
    "googlenews.get_news('BITCOIN')"
   ]
  },
  {
   "cell_type": "code",
   "execution_count": 39,
   "metadata": {},
   "outputs": [],
   "source": [
    "googlenews.search('BITCOIN')"
   ]
  },
  {
   "cell_type": "code",
   "execution_count": 40,
   "metadata": {},
   "outputs": [
    {
     "output_type": "stream",
     "name": "stdout",
     "text": [
      "[{'title': '12 Best Bitcoin Trading Tools of 2020', 'media': 'Warrington Worldwide', 'date': '1 Feb 2020', 'datetime': nan, 'desc': 'Crypto Trader is another cloud-based trading bot that supports all key Bitcoin exchanges and allows live trading, back testing, a Strategies Marketplace for buying ...', 'link': 'https://www.warrington-worldwide.co.uk/2020/02/01/12-best-bitcoin-trading-tools-of-2020/', 'img': 'data:image/gif;base64,R0lGODlhAQABAIAAAP///////yH5BAEKAAEALAAAAAABAAEAAAICTAEAOw=='}, {'title': 'Bitcoin, Like The Original iPhone, Is Just The Start Of Something Much Bigger', 'media': 'Forbes', 'date': '3 Feb 2020', 'datetime': nan, 'desc': \"Bitcoin's status as the first successful cryptocurrency gives it a spot in the history books, but it's just the start of something much bigger. After all, outlets from ...\", 'link': 'https://www.forbes.com/sites/theyec/2020/02/03/bitcoin-like-the-original-iphone-is-just-the-start-of-something-much-bigger/', 'img': 'data:image/gif;base64,R0lGODlhAQABAIAAAP///////yH5BAEKAAEALAAAAAABAAEAAAICTAEAOw=='}, {'title': 'Top 5 Potentially Profitable Cryptocurrencies in 2020: Investment Advice', 'media': 'Yahoo Finance', 'date': '3 Feb 2020', 'datetime': nan, 'desc': 'The most popular cryptocurrencies – Ethereum, Bitcoin and Ripple – have a high liquidity rate. Trading activity on exchanges indicates the number of transactions ...', 'link': 'https://finance.yahoo.com/news/top-5-potentially-profitable-cryptocurrencies-100627541.html', 'img': 'data:image/gif;base64,R0lGODlhAQABAIAAAP///////yH5BAEKAAEALAAAAAABAAEAAAICTAEAOw=='}, {'title': 'Ohio man arrested for running Bitcoin mixing service that laundered $300 million', 'media': 'ZDNet', 'date': '14 Feb 2020', 'datetime': nan, 'desc': 'Helix functioned as a Bitcoin mixer (Bitcoin tumbler), a type of service that takes funds from a user, split the sum into small parts, and using thousands of ...', 'link': 'https://www.zdnet.com/article/ohio-man-arrested-for-running-bitcoin-mixing-service-that-laundered-300-million/', 'img': 'data:image/gif;base64,R0lGODlhAQABAIAAAP///////yH5BAEKAAEALAAAAAABAAEAAAICTAEAOw=='}, {'title': \"US DOJ Calls Bitcoin Mixing 'a Crime' in Arrest of Software Developer - CoinDesk\", 'media': 'CoinDesk', 'date': '13 Feb 2020', 'datetime': nan, 'desc': 'In addition to the crypto media site Coin Ninja, Harmon created the bitcoin (BTC) mixer Helix, which sends transactions out in mixed batches so individual ...', 'link': 'https://www.coindesk.com/us-doj-calls-bitcoin-mixing-a-crime-in-arrest-of-software-developer', 'img': 'data:image/gif;base64,R0lGODlhAQABAIAAAP///////yH5BAEKAAEALAAAAAABAAEAAAICTAEAOw=='}, {'title': 'When is bitcoin mixing a crime?', 'media': 'Modern Consensus.', 'date': '14 Feb 2020', 'datetime': nan, 'desc': 'Bitcoin mixers, or tumblers, have been around for years. The way they work ... But when does operating a bitcoin mixer constitute money laundering? How about ...', 'link': 'https://modernconsensus.com/regulation/when-is-bitcoin-mixing-a-crime/', 'img': 'data:image/gif;base64,R0lGODlhAQABAIAAAP///////yH5BAEKAAEALAAAAAABAAEAAAICTAEAOw=='}, {'title': 'Bitcoin may set a new all-time high in 2020, Michael Novogratz says', 'media': 'CNBC', 'date': '14 Feb 2020', 'datetime': nan, 'desc': \"Bitcoin's liquidity-driven rally is likely to continue throughout 2020, Michael Novogratz told CNBC on Friday. The cryptocurrency investor said large amounts of ...\", 'link': 'https://www.cnbc.com/2020/02/14/michael-novogratz-explains-why-bitcoin-may-set-all-time-highs-in-2020.html', 'img': 'data:image/gif;base64,R0lGODlhAQABAIAAAP///////yH5BAEKAAEALAAAAAABAAEAAAICTAEAOw=='}, {'title': 'Bitcoin’s 2020 Rally More Sustainable Than 2019 Surge', 'media': 'Forbes', 'date': '20 Feb 2020', 'datetime': nan, 'desc': \"This year's bitcoin rally also differs from 2019 in terms of excitement. “This time around, we are much closer to the halving, so there is hype in the crypto space ...\", 'link': 'https://www.forbes.com/sites/benjaminpirus/2020/02/20/bitcoins-2020-rally-more-sustainable-than-2019-surge/', 'img': 'data:image/gif;base64,R0lGODlhAQABAIAAAP///////yH5BAEKAAEALAAAAAABAAEAAAICTAEAOw=='}, {'title': 'Crypto asset manager sees bitcoin mining shift from China to North America', 'media': 'Reuters', 'date': '11 Feb 2020', 'datetime': nan, 'desc': \"LONDON (Reuters) - The world's biggest cryptocurrency asset manager said on Tuesday it was seeing efforts to shift bitcoin production to North America from ...\", 'link': 'https://www.reuters.com/article/us-crypto-currencies-idUSKBN2052FW', 'img': 'data:image/gif;base64,R0lGODlhAQABAIAAAP///////yH5BAEKAAEALAAAAAABAAEAAAICTAEAOw=='}, {'title': 'Jack Dorsey-Backed Lightning Labs Raises $10 Million To Build Visa Network For Bitcoin', 'media': 'Forbes', 'date': '5 Feb 2020', 'datetime': nan, 'desc': 'Bitcoin payments startup Lightning Labs has raised $10 million to expand its payments network that lets companies and individuals spend bitcoin as easily as ...', 'link': 'https://www.forbes.com/sites/michaeldelcastillo/2020/02/05/jack-dorsey-backed-lightning-labs-raises-10-million-to-build-visa-network-for-bitcoin/', 'img': 'data:image/gif;base64,R0lGODlhAQABAIAAAP///////yH5BAEKAAEALAAAAAABAAEAAAICTAEAOw=='}]\n"
     ]
    }
   ],
   "source": [
    "result = googlenews.page_at(2)\n",
    "print(result)"
   ]
  },
  {
   "cell_type": "code",
   "execution_count": 47,
   "metadata": {},
   "outputs": [],
   "source": [
    "def rev(nums):\n",
    "     n = len(nums)\n",
    "     copy = [0]* n\n",
    "     for i in range(0, n):\n",
    "\n",
    "        copy[i] = nums[n - i - 1]\n",
    "     for i in range(0, n):\n",
    "\n",
    "         nums[i] = copy[i]\n",
    "     return nums    \n",
    "        \n",
    "        \n",
    "        \n",
    "        "
   ]
  },
  {
   "cell_type": "code",
   "execution_count": 48,
   "metadata": {},
   "outputs": [
    {
     "output_type": "execute_result",
     "data": {
      "text/plain": [
       "[7, 5, 4, 3, 2, 1]"
      ]
     },
     "metadata": {},
     "execution_count": 48
    }
   ],
   "source": [
    "rev([1,2,3,4,5,7])"
   ]
  },
  {
   "cell_type": "code",
   "execution_count": 55,
   "metadata": {},
   "outputs": [
    {
     "output_type": "stream",
     "name": "stdout",
     "text": [
      "[1, 2, 3, 4]\n[1, 2]\n"
     ]
    }
   ],
   "source": [
    "l = list(range(1, 5))\n",
    "print(l) \n",
    "for i in range(0,2):   # [1, 2, 3, 4]\n",
    "    del l[-1]\n",
    "print(l)    # [1, 2, 3]"
   ]
  },
  {
   "cell_type": "code",
   "execution_count": 58,
   "metadata": {},
   "outputs": [],
   "source": [
    "def strStr(haystack, needle):\n",
    "        sts= 0\n",
    "        if needle ==\"\" :\n",
    "            return 0\n",
    "        \n",
    "        first_needle = needle[0]\n",
    "        for i in range(len(haystack)):\n",
    "            if haystack:\n",
    "\n",
    "                if first_needle in haystack :\n",
    "                    sts= haystack.index(first_needle) \n",
    "                else:\n",
    "                    sts= -1\n",
    "            else:\n",
    "                sts= -1\n",
    "        return sts"
   ]
  },
  {
   "cell_type": "code",
   "execution_count": 62,
   "metadata": {},
   "outputs": [],
   "source": [
    "def searchInsert( nums, target):\n",
    "        index = 0\n",
    "        i = 0\n",
    "        if target in nums:\n",
    "            index = nums.index(target)\n",
    "        \n",
    "        else:\n",
    "            while(i < len(nums)):\n",
    "                curr = 0\n",
    "                if i < len(nums):\n",
    "                    nex = i + 1\n",
    "                    if target> nums[i] and target<nums[nex]:\n",
    "                        index = nex\n",
    "                    else:\n",
    "                        i = i +1\n",
    "                else:\n",
    "                    index = i \n",
    "                    i = i +1\n",
    "        return index"
   ]
  },
  {
   "cell_type": "code",
   "execution_count": null,
   "metadata": {},
   "outputs": [],
   "source": [
    "searchInsert([1,3,5,6], 2)"
   ]
  }
 ]
}